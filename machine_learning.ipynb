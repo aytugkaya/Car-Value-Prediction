{
 "cells": [
  {
   "cell_type": "markdown",
   "metadata": {},
   "source": [
    "# Import models"
   ]
  },
  {
   "cell_type": "code",
   "execution_count": 1,
   "metadata": {},
   "outputs": [
    {
     "name": "stderr",
     "output_type": "stream",
     "text": [
      "C:\\Anaconda3\\lib\\site-packages\\sklearn\\ensemble\\weight_boosting.py:29: DeprecationWarning: numpy.core.umath_tests is an internal NumPy module and should not be imported. It will be removed in a future NumPy release.\n",
      "  from numpy.core.umath_tests import inner1d\n",
      "C:\\Anaconda3\\lib\\site-packages\\sklearn\\cross_validation.py:41: DeprecationWarning: This module was deprecated in version 0.18 in favor of the model_selection module into which all the refactored classes and functions are moved. Also note that the interface of the new CV iterators are different from that of this module. This module will be removed in 0.20.\n",
      "  \"This module will be removed in 0.20.\", DeprecationWarning)\n"
     ]
    }
   ],
   "source": [
    "import pandas as pd\n",
    "import matplotlib.pyplot as plt\n",
    "import seaborn as sns\n",
    "import numpy as np\n",
    "import scipy.stats as stats\n",
    "\n",
    "from sklearn.linear_model import LinearRegression\n",
    "\n",
    "from sklearn.tree import  DecisionTreeRegressor\n",
    "\n",
    "from sklearn.ensemble import BaggingRegressor\n",
    "from sklearn.ensemble import GradientBoostingRegressor\n",
    "from sklearn.ensemble import RandomForestRegressor\n",
    "from sklearn.ensemble import AdaBoostRegressor\n",
    "\n",
    "from sklearn.metrics import mean_squared_error as MSE\n",
    "from sklearn.metrics import accuracy_score\n",
    "\n",
    "from sklearn.model_selection import train_test_split\n",
    "from sklearn.model_selection import GridSearchCV\n",
    "\n",
    "from sklearn.cross_validation import cross_val_score\n",
    "\n",
    "from sklearn.linear_model import  ElasticNet\n",
    "from sklearn.metrics import mean_squared_error\n",
    "\n",
    "from bayes_opt import BayesianOptimization\n",
    "\n",
    "\n"
   ]
  },
  {
   "cell_type": "markdown",
   "metadata": {},
   "source": [
    "# Read Data\n",
    "For convenience, the dataset was saved to a csv file after cleaninig and data wrangling phase."
   ]
  },
  {
   "cell_type": "code",
   "execution_count": 2,
   "metadata": {},
   "outputs": [],
   "source": [
    "df=pd.read_csv(\"clean_data.csv\")\n",
    "#df=df[df.yearOfRegistration>1990]\n",
    "#df=df[df.price<150000]\n",
    "df.price.describe()"
   ]
  },
  {
   "cell_type": "code",
   "execution_count": 115,
   "metadata": {},
   "outputs": [
    {
     "data": {
      "text/plain": [
       "count    2.311570e+05\n",
       "mean     6.894628e+03\n",
       "std      1.055829e+04\n",
       "min      2.000000e+02\n",
       "25%      1.700000e+03\n",
       "50%      4.000000e+03\n",
       "75%      8.900000e+03\n",
       "max      1.250000e+06\n",
       "Name: price, dtype: float64"
      ]
     },
     "execution_count": 115,
     "metadata": {},
     "output_type": "execute_result"
    }
   ],
   "source": [
    "np.exp(y).describe()"
   ]
  },
  {
   "cell_type": "markdown",
   "metadata": {},
   "source": [
    "# Create Dummies"
   ]
  },
  {
   "cell_type": "code",
   "execution_count": 3,
   "metadata": {},
   "outputs": [],
   "source": [
    "\n",
    "df=df.drop('Unnamed: 0',axis=1)\n",
    "df=df.drop('index',axis=1)\n",
    "fuel_dummies=pd.get_dummies(df.fuelType, prefix='fuel').iloc[:,1:]\n",
    "#df=pd.concat([df,fuel_dummies], axis=1)\n",
    "brand_dummies=pd.get_dummies(df.brand, prefix='brand').iloc[:,1:]\n",
    "\n",
    "vehicle_dummies=pd.get_dummies(df.vehicleType, prefix='vehicle_type').iloc[:,1:]\n",
    "#df=pd.concat([df,vehicle_dummies], axis=1)\n",
    "df=pd.concat([df,fuel_dummies,vehicle_dummies,brand_dummies], axis=1)\n",
    "dfcolumns=['yearOfRegistration','powerPS','kilometer',\n",
    "         'age','salvaged','gearbox',\n",
    "         'fuel_1', 'fuel_2', 'fuel_3', 'fuel_4', 'fuel_5', \n",
    "           'brand_AUDI',\n",
    "       'brand_BENTLEY', 'brand_BMW', 'brand_BUICK', 'brand_CADILLAC',\n",
    "       'brand_CHEVROLET', 'brand_CHRYSLER', 'brand_CITROEN', 'brand_DACIA',\n",
    "       'brand_DAEWOO', 'brand_DAIHATSU', 'brand_DODGE', 'brand_FERRARI',\n",
    "       'brand_FIAT', 'brand_FORD', 'brand_GMC', 'brand_HONDA', 'brand_HUMMER',\n",
    "       'brand_HYUNDAI', 'brand_ISUZU', 'brand_IVECO', 'brand_JAGUAR',\n",
    "       'brand_JEEP', 'brand_KIA', 'brand_LADA', 'brand_LANCIA',\n",
    "       'brand_LAND_ROVER', 'brand_LEXUS', 'brand_LINCOLN', 'brand_LOTUS',\n",
    "       'brand_MASERATI', 'brand_MAZDA', 'brand_MERCEDES_BENZ', 'brand_MG',\n",
    "       'brand_MINI', 'brand_MITSUBISHI', 'brand_NISSAN', 'brand_OLDSMOBILE',\n",
    "       'brand_OPEL', 'brand_PEUGEOT', 'brand_PONTIAC', 'brand_PORSCHE',\n",
    "       'brand_RENAULT', 'brand_ROVER', 'brand_SAAB', 'brand_SEAT',\n",
    "       'brand_SKODA', 'brand_SMART', 'brand_SUBARU', 'brand_SUZUKI',\n",
    "       'brand_TOYOTA', 'brand_TRABANT', \n",
    "          'brand_TRIUMPH', \n",
    "           'brand_VOLKSWAGEN',\n",
    "       'brand_VOLVO',\n",
    "           'vehicle_type_bus', 'vehicle_type_cabrio',\n",
    "       'vehicle_type_coupe', 'vehicle_type_kleinwagen', 'vehicle_type_kombi',\n",
    "       'vehicle_type_limousine', 'vehicle_type_suv']"
   ]
  },
  {
   "cell_type": "markdown",
   "metadata": {},
   "source": [
    "# Split Data\n",
    "\n",
    "Log trasformation was applied to price column before splitting"
   ]
  },
  {
   "cell_type": "code",
   "execution_count": 4,
   "metadata": {},
   "outputs": [],
   "source": [
    "X=df[dfcolumns]\n",
    "y=np.log(df.price)\n",
    "\n",
    "Xtrain,xtest,ytrain,ytest=train_test_split(X,y,test_size=0.25,random_state=42)\n"
   ]
  },
  {
   "cell_type": "markdown",
   "metadata": {},
   "source": [
    "# Tree Regressor with 5-Fold CV"
   ]
  },
  {
   "cell_type": "code",
   "execution_count": 5,
   "metadata": {},
   "outputs": [
    {
     "data": {
      "text/plain": [
       "0.8796082602485308"
      ]
     },
     "execution_count": 5,
     "metadata": {},
     "output_type": "execute_result"
    }
   ],
   "source": [
    "# Define the grid of hyperparameters 'params_dt'\n",
    "clf=DecisionTreeRegressor(criterion='friedman_mse', max_depth=52, max_features='auto',\n",
    "           max_leaf_nodes=None, min_impurity_decrease=0.2,\n",
    "           min_impurity_split=None, min_samples_leaf=3,\n",
    "           min_samples_split=2, min_weight_fraction_leaf=0,\n",
    "           presort=False, random_state=42, splitter='best')\n",
    "\n",
    "\n",
    "\n",
    "params_clf = { 'criterion' : [\"friedman_mse\"],\n",
    "               'max_depth': [21],\n",
    "               #'min_samples_split' : [2,3,4]\n",
    "               'min_samples_leaf': [7],\n",
    "              # 'min_weight_fraction_leaf':[0],\n",
    "              'max_leaf_nodes':[None],\n",
    "              'random_state':[42],\n",
    "              'max_features': ['auto'],\n",
    "              \n",
    "              'min_impurity_decrease':[0.6]\n",
    "              \n",
    "              \n",
    "             }\n",
    "# Instantiate a 10-fold CV grid search object 'grid_dt'\n",
    "grid_clf = GridSearchCV(estimator=DecisionTreeRegressor(), \n",
    "                        param_grid=params_clf,\n",
    "                        scoring='r2', \n",
    "                        cv=5,\n",
    "                        n_jobs=-1)\n",
    "\n",
    "grid_clf.fit(Xtrain, ytrain)\n",
    "ypred=grid_clf.predict(xtest)\n",
    "grid_clf.best_params_\n",
    "grid_clf.score(xtest,ytest)"
   ]
  },
  {
   "cell_type": "code",
   "execution_count": 6,
   "metadata": {},
   "outputs": [
    {
     "name": "stdout",
     "output_type": "stream",
     "text": [
      "1.4687183936394324\n"
     ]
    }
   ],
   "source": [
    "rmse_test = MSE(ytest,ypred)**(0.5)\n",
    "print(np.exp(rmse_test))"
   ]
  },
  {
   "cell_type": "code",
   "execution_count": 7,
   "metadata": {},
   "outputs": [
    {
     "data": {
      "text/plain": [
       "0.8730656809263285"
      ]
     },
     "execution_count": 7,
     "metadata": {},
     "output_type": "execute_result"
    }
   ],
   "source": [
    "clf.fit(Xtrain,ytrain)\n",
    "clf.predict(xtest)\n",
    "clf.score(xtest,ytest)"
   ]
  },
  {
   "cell_type": "markdown",
   "metadata": {},
   "source": [
    "# Random Forest Regressor"
   ]
  },
  {
   "cell_type": "code",
   "execution_count": 10,
   "metadata": {},
   "outputs": [
    {
     "name": "stdout",
     "output_type": "stream",
     "text": [
      "Fitting 3 folds for each of 1 candidates, totalling 3 fits\n"
     ]
    },
    {
     "name": "stderr",
     "output_type": "stream",
     "text": [
      "[Parallel(n_jobs=-1)]: Done   3 out of   3 | elapsed:  3.2min finished\n"
     ]
    },
    {
     "name": "stdout",
     "output_type": "stream",
     "text": [
      "Test RMSE of best model: 0.357\n",
      "Best score: 0.893\n"
     ]
    }
   ],
   "source": [
    "rf1=RandomForestRegressor(random_state=42,n_jobs=-1)\n",
    "\n",
    "params_rf = {'n_estimators':[300],\n",
    "                'max_features':[ 'auto'],\n",
    "               'min_samples_leaf':[2],\n",
    "                'max_depth':[41],\n",
    "                }\n",
    "\n",
    "\n",
    "# Instantiate grid_rf\n",
    "grid_rf = GridSearchCV(estimator=rf1,\n",
    "                       param_grid=params_rf,\n",
    "                       scoring='r2',\n",
    "                       cv=3,\n",
    "                       verbose=1,\n",
    "                       n_jobs=-1)\n",
    "\n",
    "\n",
    "grid_rf.fit(Xtrain, ytrain) \n",
    "\n",
    "# Extract the best estimator\n",
    "best_model = grid_rf.best_estimator_\n",
    "\n",
    "# Predict test set labels\n",
    "ypred = best_model.predict(xtest)\n",
    "\n",
    "# Compute rmse_test\n",
    "rmse_test = MSE(ytest,ypred)**(0.5)\n",
    "\n",
    "# Print rmse_test\n",
    "print('Test RMSE of best model: {:.3f}'.format(rmse_test)) \n",
    "print('Best score: {:.3f}'.format(grid_rf.best_score_)) "
   ]
  },
  {
   "cell_type": "code",
   "execution_count": 117,
   "metadata": {},
   "outputs": [
    {
     "data": {
      "text/plain": [
       "1.429035869853877"
      ]
     },
     "execution_count": 117,
     "metadata": {},
     "output_type": "execute_result"
    }
   ],
   "source": [
    "np.exp(0.357)"
   ]
  },
  {
   "cell_type": "code",
   "execution_count": 25,
   "metadata": {},
   "outputs": [
    {
     "data": {
      "image/png": "[encoded data removed]",
      "text/plain": [
       "<Figure size 1080x360 with 1 Axes>"
      ]
     },
     "metadata": {
      "needs_background": "light"
     },
     "output_type": "display_data"
    }
   ],
   "source": [
    "importances = pd.Series(data=grid_rf.best_estimator_.feature_importances_,\n",
    "                        index= dfcolumns)\n",
    "\n",
    "# Sort importances\n",
    "importances_sorted = importances.sort_values(ascending=False)[:10]\n",
    "g=importances_sorted.plot(kind='bar', color='lightgreen',figsize=(15,5),rot=60,logy=True)\n",
    "\n",
    "#plt.title('Features Importances')\n",
    "#print('Score: %.2f' % rf.score(xtest, rf_pred))"
   ]
  },
  {
   "cell_type": "markdown",
   "metadata": {},
   "source": [
    "# Gradient Boosting Regressor"
   ]
  },
  {
   "cell_type": "code",
   "execution_count": 26,
   "metadata": {},
   "outputs": [
    {
     "name": "stdout",
     "output_type": "stream",
     "text": [
      "      Iter       Train Loss   Remaining Time \n",
      "         1           0.8675           13.71m\n",
      "         2           0.6248           13.63m\n",
      "         3           0.4671           13.86m\n",
      "         4           0.3624           13.87m\n",
      "         5           0.2926           13.65m\n",
      "         6           0.2458           13.48m\n",
      "         7           0.2135           13.25m\n",
      "         8           0.1907           12.97m\n",
      "         9           0.1746           12.74m\n",
      "        10           0.1638           12.46m\n",
      "        20           0.1291           10.58m\n",
      "        30           0.1221            8.87m\n",
      "        40           0.1187            7.70m\n",
      "        50           0.1160            6.79m\n",
      "        60           0.1140            6.04m\n",
      "        70           0.1117            5.57m\n",
      "        80           0.1099            5.09m\n",
      "        90           0.1083            4.66m\n",
      "       100           0.1072            4.25m\n",
      "       200           0.0949            1.32m\n"
     ]
    },
    {
     "data": {
      "text/plain": [
       "0.3485516456633321"
      ]
     },
     "execution_count": 26,
     "metadata": {},
     "output_type": "execute_result"
    }
   ],
   "source": [
    "gbt = GradientBoostingRegressor(alpha=0.95, criterion='friedman_mse', init=None,\n",
    "             learning_rate=0.2, loss='ls', max_depth=8, max_features=None,\n",
    "             max_leaf_nodes=None, min_impurity_decrease=0.0,\n",
    "             min_impurity_split=None, min_samples_leaf=1,\n",
    "             min_samples_split=2, min_weight_fraction_leaf=0.0,\n",
    "             n_estimators=250, presort='auto', random_state=42,\n",
    "             subsample=1.00, verbose=1, warm_start=False)\n",
    "                                       \n",
    "gbt.fit(Xtrain,ytrain)\n",
    "gbt_pred=gbt.predict(xtest)\n",
    "stats.pearsonr(gbt_pred, ytest) \n",
    "rmse_test = MSE(ytest,gbt_pred)**(0.5)\n",
    "rmse_test"
   ]
  },
  {
   "cell_type": "code",
   "execution_count": 27,
   "metadata": {},
   "outputs": [
    {
     "data": {
      "text/plain": [
       "0.9010111227839658"
      ]
     },
     "execution_count": 27,
     "metadata": {},
     "output_type": "execute_result"
    }
   ],
   "source": [
    "gbt.score(xtest,ytest)"
   ]
  },
  {
   "cell_type": "code",
   "execution_count": 116,
   "metadata": {},
   "outputs": [
    {
     "data": {
      "text/plain": [
       "1.4170137236473919"
      ]
     },
     "execution_count": 116,
     "metadata": {},
     "output_type": "execute_result"
    }
   ],
   "source": [
    "np.exp(0.3485516456633321)"
   ]
  },
  {
   "cell_type": "markdown",
   "metadata": {},
   "source": [
    "# Random Forest Regressor with Bagging"
   ]
  },
  {
   "cell_type": "code",
   "execution_count": 114,
   "metadata": {
    "scrolled": true
   },
   "outputs": [
    {
     "name": "stdout",
     "output_type": "stream",
     "text": [
      "\n",
      "Fold  0\n",
      "Validation RMSE Score: 0.3874439138218598\n",
      "Test RMSE Score: 8.33438678687052\n",
      "Bagged Test RMSE Score: 7.9184322219019085\n",
      "\n",
      "Fold  1\n",
      "Validation RMSE Score: 0.3803403968257797\n",
      "Test RMSE Score: 7.9184322219019085\n",
      "Bagged Test RMSE Score: 7.50255466120545\n",
      "\n",
      "Fold  2\n",
      "Validation RMSE Score: 0.37389965766495814\n",
      "Test RMSE Score: 7.50255466120545\n",
      "Bagged Test RMSE Score: 7.086717746633361\n",
      "\n",
      "Fold  3\n",
      "Validation RMSE Score: 0.3732085984356836\n",
      "Test RMSE Score: 7.086717746633361\n",
      "Bagged Test RMSE Score: 6.670909516055026\n",
      "\n",
      "Fold  4\n",
      "Validation RMSE Score: 0.37817565956697224\n",
      "Test RMSE Score: 6.670909516055026\n",
      "Bagged Test RMSE Score: 6.255230672675329\n",
      "\n",
      "Fold  5\n",
      "Validation RMSE Score: 0.3790491776461975\n",
      "Test RMSE Score: 6.255230672675329\n",
      "Bagged Test RMSE Score: 5.8396186986112495\n",
      "\n",
      "Fold  6\n",
      "Validation RMSE Score: 0.36539920350655897\n",
      "Test RMSE Score: 5.8396186986112495\n",
      "Bagged Test RMSE Score: 5.424162062016891\n",
      "\n",
      "Fold  7\n",
      "Validation RMSE Score: 0.3672169744849822\n",
      "Test RMSE Score: 5.424162062016891\n",
      "Bagged Test RMSE Score: 5.008792151755075\n",
      "\n",
      "Fold  8\n",
      "Validation RMSE Score: 0.37028214447210833\n",
      "Test RMSE Score: 5.008792151755075\n",
      "Bagged Test RMSE Score: 4.59360404900341\n",
      "\n",
      "Fold  9\n",
      "Validation RMSE Score: 0.36208649816829797\n",
      "Test RMSE Score: 4.59360404900341\n",
      "Bagged Test RMSE Score: 4.178672494002405\n",
      "\n",
      "Fold  10\n",
      "Validation RMSE Score: 0.3725698564360118\n",
      "Test RMSE Score: 4.178672494002405\n",
      "Bagged Test RMSE Score: 3.7640490037847245\n",
      "\n",
      "Fold  11\n",
      "Validation RMSE Score: 0.37230789129304187\n",
      "Test RMSE Score: 3.7640490037847245\n",
      "Bagged Test RMSE Score: 3.3498837408657502\n",
      "\n",
      "Fold  12\n",
      "Validation RMSE Score: 0.36989763550371335\n",
      "Test RMSE Score: 3.3498837408657502\n",
      "Bagged Test RMSE Score: 2.9363150290329774\n",
      "\n",
      "Fold  13\n",
      "Validation RMSE Score: 0.3730502619796143\n",
      "Test RMSE Score: 2.9363150290329774\n",
      "Bagged Test RMSE Score: 2.523680525793025\n",
      "\n",
      "Fold  14\n",
      "Validation RMSE Score: 0.3788381058718256\n",
      "Test RMSE Score: 2.523680525793025\n",
      "Bagged Test RMSE Score: 2.1125317379129975\n",
      "\n",
      "Fold  15\n",
      "Validation RMSE Score: 0.3760710947833819\n",
      "Test RMSE Score: 2.1125317379129975\n",
      "Bagged Test RMSE Score: 1.703914811030276\n",
      "\n",
      "Fold  16\n",
      "Validation RMSE Score: 0.3725214047886475\n",
      "Test RMSE Score: 1.703914811030276\n",
      "Bagged Test RMSE Score: 1.3001384359000867\n",
      "\n",
      "Fold  17\n",
      "Validation RMSE Score: 0.3823061055250462\n",
      "Test RMSE Score: 1.3001384359000867\n",
      "Bagged Test RMSE Score: 0.907696505697855\n",
      "\n",
      "Fold  18\n",
      "Validation RMSE Score: 0.37522075624277573\n",
      "Test RMSE Score: 0.907696505697855\n",
      "Bagged Test RMSE Score: 0.5516694635747623\n",
      "\n",
      "Fold  19\n",
      "Validation RMSE Score: 0.3765230880829985\n",
      "Test RMSE Score: 0.5516694635747623\n",
      "Bagged Test RMSE Score: 0.36263293289420606\n"
     ]
    }
   ],
   "source": [
    "from sklearn.model_selection import KFold\n",
    "rf=RandomForestRegressor()\n",
    "\n",
    "\n",
    "test_preds = np.zeros(ytest.shape[0])\n",
    "\n",
    "kf = KFold(n_splits=20, shuffle=True,  random_state=1234)\n",
    "\n",
    "for i, (train_index, val_index) in enumerate(kf.split(Xtrain,ytrain)):\n",
    "    X_train, y_train = Xtrain.iloc[train_index].copy(), ytrain.iloc[train_index].copy()\n",
    "    X_valid, y_valid = Xtrain.iloc[val_index].copy(), ytrain.iloc[val_index].copy()\n",
    "    print(\"\\nFold \", i)\n",
    "    rf.fit(X_train, y_train)\n",
    "    val_preds = rf.predict(X_valid)\n",
    "    print('Validation RMSE Score:',MSE(y_valid,val_preds)**(0.5))\n",
    "    test_pred = rf.predict(xtest)\n",
    "    print('Test RMSE Score:',MSE(ytest,test_preds)**(0.5))\n",
    "    test_preds += test_pred / kf.n_splits\n",
    "    print('Bagged Test RMSE Score:',MSE(ytest,test_preds)**(0.5))"
   ]
  },
  {
   "cell_type": "code",
   "execution_count": 29,
   "metadata": {},
   "outputs": [
    {
     "data": {
      "text/plain": [
       "count    2.311570e+05\n",
       "mean     6.894628e+03\n",
       "std      1.055829e+04\n",
       "min      2.000000e+02\n",
       "25%      1.700000e+03\n",
       "50%      4.000000e+03\n",
       "75%      8.900000e+03\n",
       "max      1.250000e+06\n",
       "Name: price, dtype: float64"
      ]
     },
     "execution_count": 29,
     "metadata": {},
     "output_type": "execute_result"
    }
   ],
   "source": [
    "np.exp(y).describe()"
   ]
  },
  {
   "cell_type": "markdown",
   "metadata": {},
   "source": [
    "# Light GBM"
   ]
  },
  {
   "cell_type": "code",
   "execution_count": 37,
   "metadata": {
    "scrolled": false
   },
   "outputs": [
    {
     "name": "stdout",
     "output_type": "stream",
     "text": [
      "Fitting 3 folds for each of 1 candidates, totalling 3 fits\n"
     ]
    },
    {
     "name": "stderr",
     "output_type": "stream",
     "text": [
      "[Parallel(n_jobs=-1)]: Done   3 out of   3 | elapsed:   17.2s remaining:    0.0s\n",
      "[Parallel(n_jobs=-1)]: Done   3 out of   3 | elapsed:   17.2s finished\n"
     ]
    },
    {
     "name": "stdout",
     "output_type": "stream",
     "text": [
      "0.3452056223634312\n",
      "0.902902545627689\n"
     ]
    }
   ],
   "source": [
    "import lightgbm as lgb\n",
    "\n",
    "#lgbm=lgb.LGBMRegressor(boosting_type='gbdt', class_weight=None, colsample_bytree=1.0,\n",
    "#       importance_type='split',min_child_samples=20, min_child_weight=0.001,\n",
    "#                       min_split_gain=0.0,n_jobs=-1, objective=None,\n",
    "#       random_state=None, reg_alpha=0.0, reg_lambda=0.0, silent=True,\n",
    "#       subsample=1.0, subsample_for_bin=200000, subsample_freq=0)\n",
    "#\n",
    "\n",
    "lgbr=lgb.LGBMRegressor()\n",
    "\n",
    "\n",
    "\n",
    "param_dist = {  \"max_depth\":[75], \"learning_rate\" : [0.1],\n",
    "         \"num_leaves\": [300],\"n_estimators\": [200]}\n",
    "                  \n",
    "              \n",
    "              \n",
    "             \n",
    "grid_search = GridSearchCV(lgbr, n_jobs=-1, param_grid=param_dist, cv = 3, scoring=\"r2\", verbose=5)\n",
    "grid_search.fit(Xtrain,ytrain)\n",
    "grid_search.best_estimator_\n",
    "lgb_pred=grid_search.predict(xtest)\n",
    "#d_train = lgb.Dataset(Xtrain, label=ytrain)\n",
    "#params = {\"max_depth\": 50, \"learning_rate\" : 0.1, \"num_leaves\": 900,  \"n_estimators\": 300}\n",
    "rmse_test = MSE(ytest,lgb_pred)**(0.5)\n",
    "print(rmse_test)\n",
    "print(grid_search.best_estimator_.score(xtest,ytest))"
   ]
  },
  {
   "cell_type": "code",
   "execution_count": 36,
   "metadata": {},
   "outputs": [
    {
     "data": {
      "text/plain": [
       "0.902902545627689"
      ]
     },
     "execution_count": 36,
     "metadata": {},
     "output_type": "execute_result"
    }
   ],
   "source": [
    "grid_search.best_estimator_.score(xtest,ytest)\n"
   ]
  },
  {
   "cell_type": "code",
   "execution_count": 33,
   "metadata": {},
   "outputs": [
    {
     "data": {
      "text/plain": [
       "{'learning_rate': 0.1, 'max_depth': 75, 'n_estimators': 200, 'num_leaves': 300}"
      ]
     },
     "execution_count": 33,
     "metadata": {},
     "output_type": "execute_result"
    }
   ],
   "source": [
    "grid_search.best_params_"
   ]
  },
  {
   "cell_type": "code",
   "execution_count": 121,
   "metadata": {},
   "outputs": [
    {
     "data": {
      "text/plain": [
       "1.4122802862239878"
      ]
     },
     "execution_count": 121,
     "metadata": {},
     "output_type": "execute_result"
    }
   ],
   "source": [
    "np.exp(0.3452056223634312)"
   ]
  },
  {
   "cell_type": "markdown",
   "metadata": {},
   "source": [
    "# Catboost Regressor\n",
    "\n",
    "Catboost does not require dummy variables or one hot encoding. Therefore, dataset was adjusted accordingly."
   ]
  },
  {
   "cell_type": "code",
   "execution_count": 38,
   "metadata": {},
   "outputs": [],
   "source": [
    "###\n",
    "###       CATBOOST REGRESSOR\n",
    "###\n",
    "###\n",
    "from catboost import CatBoostRegressor\n",
    "df=pd.read_csv(\"clean_data.csv\")\n",
    "\n",
    "df=df.drop('Unnamed: 0',axis=1)\n",
    "df=df.drop('index',axis=1)\n",
    "y3=np.log(df.price)\n",
    "df = df.iloc[:,5:].copy()\n",
    "\n",
    "\n",
    "X_train, X_test, y_train, y_test = train_test_split(df, y3, test_size = 0.2)\n",
    "categorical_feature_indices = [0,1,2,5,6,7,8,9]\n",
    "\n"
   ]
  },
  {
   "cell_type": "code",
   "execution_count": 39,
   "metadata": {},
   "outputs": [
    {
     "name": "stdout",
     "output_type": "stream",
     "text": [
      "Fitting 5 folds for each of 1 candidates, totalling 5 fits\n"
     ]
    },
    {
     "name": "stderr",
     "output_type": "stream",
     "text": [
      "[Parallel(n_jobs=-1)]: Done   2 out of   5 | elapsed: 16.8min remaining: 25.2min\n",
      "[Parallel(n_jobs=-1)]: Done   5 out of   5 | elapsed: 17.1min finished\n"
     ]
    },
    {
     "name": "stdout",
     "output_type": "stream",
     "text": [
      "0:\tlearn: 6.6882813\ttest: 6.6873288\tbest: 6.6873288 (0)\ttotal: 683ms\tremaining: 5m 41s\n",
      "1:\tlearn: 5.3652097\ttest: 5.3644723\tbest: 5.3644723 (1)\ttotal: 949ms\tremaining: 3m 56s\n",
      "2:\tlearn: 4.3140324\ttest: 4.3126995\tbest: 4.3126995 (2)\ttotal: 1.02s\tremaining: 2m 49s\n",
      "3:\tlearn: 3.4679885\ttest: 3.4665891\tbest: 3.4665891 (3)\ttotal: 1.29s\tremaining: 2m 40s\n",
      "4:\tlearn: 2.7944692\ttest: 2.7930877\tbest: 2.7930877 (4)\ttotal: 1.47s\tremaining: 2m 25s\n",
      "5:\tlearn: 2.2586654\ttest: 2.2574884\tbest: 2.2574884 (5)\ttotal: 1.84s\tremaining: 2m 31s\n",
      "6:\tlearn: 1.8341985\ttest: 1.8331110\tbest: 1.8331110 (6)\ttotal: 2.35s\tremaining: 2m 45s\n",
      "7:\tlearn: 1.4985842\ttest: 1.4974994\tbest: 1.4974994 (7)\ttotal: 2.62s\tremaining: 2m 40s\n",
      "8:\tlearn: 1.2316286\ttest: 1.2303791\tbest: 1.2303791 (8)\ttotal: 3.15s\tremaining: 2m 51s\n",
      "9:\tlearn: 1.0257042\ttest: 1.0244750\tbest: 1.0244750 (9)\ttotal: 3.36s\tremaining: 2m 44s\n",
      "10:\tlearn: 0.8605482\ttest: 0.8596948\tbest: 0.8596948 (10)\ttotal: 3.85s\tremaining: 2m 51s\n",
      "11:\tlearn: 0.7342076\ttest: 0.7336824\tbest: 0.7336824 (11)\ttotal: 4.35s\tremaining: 2m 56s\n",
      "12:\tlearn: 0.6385902\ttest: 0.6381852\tbest: 0.6381852 (12)\ttotal: 4.83s\tremaining: 3m 1s\n",
      "13:\tlearn: 0.5659527\ttest: 0.5660267\tbest: 0.5660267 (13)\ttotal: 5.31s\tremaining: 3m 4s\n",
      "14:\tlearn: 0.5125365\ttest: 0.5130992\tbest: 0.5130992 (14)\ttotal: 5.77s\tremaining: 3m 6s\n",
      "15:\tlearn: 0.4738322\ttest: 0.4748715\tbest: 0.4748715 (15)\ttotal: 6.18s\tremaining: 3m 7s\n",
      "16:\tlearn: 0.4471585\ttest: 0.4489250\tbest: 0.4489250 (16)\ttotal: 6.7s\tremaining: 3m 10s\n",
      "17:\tlearn: 0.4254206\ttest: 0.4276653\tbest: 0.4276653 (17)\ttotal: 7.19s\tremaining: 3m 12s\n",
      "18:\tlearn: 0.4090641\ttest: 0.4118289\tbest: 0.4118289 (18)\ttotal: 7.65s\tremaining: 3m 13s\n",
      "19:\tlearn: 0.3970661\ttest: 0.4002221\tbest: 0.4002221 (19)\ttotal: 8.18s\tremaining: 3m 16s\n",
      "20:\tlearn: 0.3886014\ttest: 0.3926251\tbest: 0.3926251 (20)\ttotal: 8.73s\tremaining: 3m 19s\n",
      "21:\tlearn: 0.3821609\ttest: 0.3865941\tbest: 0.3865941 (21)\ttotal: 9.22s\tremaining: 3m 20s\n",
      "22:\tlearn: 0.3779779\ttest: 0.3826700\tbest: 0.3826700 (22)\ttotal: 9.76s\tremaining: 3m 22s\n",
      "23:\tlearn: 0.3743750\ttest: 0.3793317\tbest: 0.3793317 (23)\ttotal: 10.2s\tremaining: 3m 22s\n",
      "24:\tlearn: 0.3717063\ttest: 0.3769869\tbest: 0.3769869 (24)\ttotal: 10.7s\tremaining: 3m 23s\n",
      "25:\tlearn: 0.3700074\ttest: 0.3754493\tbest: 0.3754493 (25)\ttotal: 11.2s\tremaining: 3m 24s\n",
      "26:\tlearn: 0.3679410\ttest: 0.3740938\tbest: 0.3740938 (26)\ttotal: 11.8s\tremaining: 3m 26s\n",
      "27:\tlearn: 0.3661242\ttest: 0.3726309\tbest: 0.3726309 (27)\ttotal: 12.3s\tremaining: 3m 26s\n",
      "28:\tlearn: 0.3647437\ttest: 0.3715877\tbest: 0.3715877 (28)\ttotal: 12.8s\tremaining: 3m 27s\n",
      "29:\tlearn: 0.3633583\ttest: 0.3705026\tbest: 0.3705026 (29)\ttotal: 13.3s\tremaining: 3m 28s\n",
      "30:\tlearn: 0.3621862\ttest: 0.3695318\tbest: 0.3695318 (30)\ttotal: 13.8s\tremaining: 3m 29s\n",
      "31:\tlearn: 0.3611679\ttest: 0.3687163\tbest: 0.3687163 (31)\ttotal: 14.4s\tremaining: 3m 30s\n",
      "32:\tlearn: 0.3601501\ttest: 0.3678696\tbest: 0.3678696 (32)\ttotal: 14.9s\tremaining: 3m 30s\n",
      "33:\tlearn: 0.3586415\ttest: 0.3667955\tbest: 0.3667955 (33)\ttotal: 15.4s\tremaining: 3m 31s\n",
      "34:\tlearn: 0.3577082\ttest: 0.3661354\tbest: 0.3661354 (34)\ttotal: 16s\tremaining: 3m 32s\n",
      "35:\tlearn: 0.3565525\ttest: 0.3652263\tbest: 0.3652263 (35)\ttotal: 16.6s\tremaining: 3m 33s\n",
      "36:\tlearn: 0.3558106\ttest: 0.3646305\tbest: 0.3646305 (36)\ttotal: 17.2s\tremaining: 3m 35s\n",
      "37:\tlearn: 0.3546346\ttest: 0.3636881\tbest: 0.3636881 (37)\ttotal: 17.7s\tremaining: 3m 35s\n",
      "38:\tlearn: 0.3536522\ttest: 0.3629366\tbest: 0.3629366 (38)\ttotal: 18.3s\tremaining: 3m 35s\n",
      "39:\tlearn: 0.3527885\ttest: 0.3625022\tbest: 0.3625022 (39)\ttotal: 18.8s\tremaining: 3m 36s\n",
      "40:\tlearn: 0.3522491\ttest: 0.3620052\tbest: 0.3620052 (40)\ttotal: 19.3s\tremaining: 3m 36s\n",
      "41:\tlearn: 0.3512975\ttest: 0.3613828\tbest: 0.3613828 (41)\ttotal: 19.9s\tremaining: 3m 37s\n",
      "42:\tlearn: 0.3502920\ttest: 0.3605193\tbest: 0.3605193 (42)\ttotal: 20.4s\tremaining: 3m 36s\n",
      "43:\tlearn: 0.3496263\ttest: 0.3602372\tbest: 0.3602372 (43)\ttotal: 20.9s\tremaining: 3m 36s\n",
      "44:\tlearn: 0.3490598\ttest: 0.3597262\tbest: 0.3597262 (44)\ttotal: 21.5s\tremaining: 3m 37s\n",
      "45:\tlearn: 0.3485717\ttest: 0.3593487\tbest: 0.3593487 (45)\ttotal: 22.1s\tremaining: 3m 37s\n",
      "46:\tlearn: 0.3479579\ttest: 0.3591419\tbest: 0.3591419 (46)\ttotal: 22.6s\tremaining: 3m 37s\n",
      "47:\tlearn: 0.3470854\ttest: 0.3586587\tbest: 0.3586587 (47)\ttotal: 23.2s\tremaining: 3m 38s\n",
      "48:\tlearn: 0.3463793\ttest: 0.3581931\tbest: 0.3581931 (48)\ttotal: 23.7s\tremaining: 3m 38s\n",
      "49:\tlearn: 0.3459749\ttest: 0.3579700\tbest: 0.3579700 (49)\ttotal: 24.3s\tremaining: 3m 38s\n",
      "50:\tlearn: 0.3454687\ttest: 0.3576165\tbest: 0.3576165 (50)\ttotal: 24.8s\tremaining: 3m 38s\n",
      "51:\tlearn: 0.3450104\ttest: 0.3573304\tbest: 0.3573304 (51)\ttotal: 25.4s\tremaining: 3m 38s\n",
      "52:\tlearn: 0.3445742\ttest: 0.3570568\tbest: 0.3570568 (52)\ttotal: 25.9s\tremaining: 3m 38s\n",
      "53:\tlearn: 0.3438425\ttest: 0.3565630\tbest: 0.3565630 (53)\ttotal: 26.6s\tremaining: 3m 39s\n",
      "54:\tlearn: 0.3431628\ttest: 0.3561666\tbest: 0.3561666 (54)\ttotal: 27.1s\tremaining: 3m 39s\n",
      "55:\tlearn: 0.3428061\ttest: 0.3559939\tbest: 0.3559939 (55)\ttotal: 27.6s\tremaining: 3m 39s\n",
      "56:\tlearn: 0.3422696\ttest: 0.3556482\tbest: 0.3556482 (56)\ttotal: 28.2s\tremaining: 3m 38s\n",
      "57:\tlearn: 0.3416055\ttest: 0.3551521\tbest: 0.3551521 (57)\ttotal: 28.8s\tremaining: 3m 39s\n",
      "58:\tlearn: 0.3413881\ttest: 0.3549848\tbest: 0.3549848 (58)\ttotal: 29.4s\tremaining: 3m 39s\n",
      "59:\tlearn: 0.3407175\ttest: 0.3547321\tbest: 0.3547321 (59)\ttotal: 29.9s\tremaining: 3m 39s\n",
      "60:\tlearn: 0.3402139\ttest: 0.3545104\tbest: 0.3545104 (60)\ttotal: 30.4s\tremaining: 3m 38s\n",
      "61:\tlearn: 0.3396427\ttest: 0.3541545\tbest: 0.3541545 (61)\ttotal: 31s\tremaining: 3m 38s\n",
      "62:\tlearn: 0.3391754\ttest: 0.3538987\tbest: 0.3538987 (62)\ttotal: 31.5s\tremaining: 3m 38s\n",
      "63:\tlearn: 0.3380633\ttest: 0.3533733\tbest: 0.3533733 (63)\ttotal: 32s\tremaining: 3m 38s\n",
      "64:\tlearn: 0.3373939\ttest: 0.3529997\tbest: 0.3529997 (64)\ttotal: 32.6s\tremaining: 3m 38s\n",
      "65:\tlearn: 0.3370309\ttest: 0.3527581\tbest: 0.3527581 (65)\ttotal: 33.2s\tremaining: 3m 37s\n",
      "66:\tlearn: 0.3364466\ttest: 0.3524383\tbest: 0.3524383 (66)\ttotal: 33.7s\tremaining: 3m 38s\n",
      "67:\tlearn: 0.3355333\ttest: 0.3521306\tbest: 0.3521306 (67)\ttotal: 34.3s\tremaining: 3m 37s\n",
      "68:\tlearn: 0.3351295\ttest: 0.3518740\tbest: 0.3518740 (68)\ttotal: 34.8s\tremaining: 3m 37s\n",
      "69:\tlearn: 0.3344029\ttest: 0.3515421\tbest: 0.3515421 (69)\ttotal: 35.3s\tremaining: 3m 37s\n",
      "70:\tlearn: 0.3340002\ttest: 0.3513030\tbest: 0.3513030 (70)\ttotal: 35.9s\tremaining: 3m 36s\n",
      "71:\tlearn: 0.3334128\ttest: 0.3511772\tbest: 0.3511772 (71)\ttotal: 36.5s\tremaining: 3m 36s\n",
      "72:\tlearn: 0.3329221\ttest: 0.3509038\tbest: 0.3509038 (72)\ttotal: 37.1s\tremaining: 3m 36s\n",
      "73:\tlearn: 0.3326518\ttest: 0.3507671\tbest: 0.3507671 (73)\ttotal: 37.7s\tremaining: 3m 36s\n",
      "74:\tlearn: 0.3323171\ttest: 0.3506259\tbest: 0.3506259 (74)\ttotal: 38.2s\tremaining: 3m 36s\n",
      "75:\tlearn: 0.3320075\ttest: 0.3505048\tbest: 0.3505048 (75)\ttotal: 38.8s\tremaining: 3m 36s\n",
      "76:\tlearn: 0.3317389\ttest: 0.3504329\tbest: 0.3504329 (76)\ttotal: 39.4s\tremaining: 3m 36s\n",
      "77:\tlearn: 0.3312739\ttest: 0.3501630\tbest: 0.3501630 (77)\ttotal: 40s\tremaining: 3m 36s\n",
      "78:\tlearn: 0.3309323\ttest: 0.3500713\tbest: 0.3500713 (78)\ttotal: 40.5s\tremaining: 3m 35s\n",
      "79:\tlearn: 0.3304606\ttest: 0.3499113\tbest: 0.3499113 (79)\ttotal: 41.1s\tremaining: 3m 35s\n",
      "80:\tlearn: 0.3299755\ttest: 0.3496673\tbest: 0.3496673 (80)\ttotal: 41.8s\tremaining: 3m 35s\n",
      "81:\tlearn: 0.3293889\ttest: 0.3496084\tbest: 0.3496084 (81)\ttotal: 42.3s\tremaining: 3m 35s\n",
      "82:\tlearn: 0.3289046\ttest: 0.3494412\tbest: 0.3494412 (82)\ttotal: 42.9s\tremaining: 3m 35s\n",
      "83:\tlearn: 0.3285815\ttest: 0.3493203\tbest: 0.3493203 (83)\ttotal: 43.5s\tremaining: 3m 35s\n",
      "84:\tlearn: 0.3282822\ttest: 0.3490472\tbest: 0.3490472 (84)\ttotal: 44s\tremaining: 3m 34s\n",
      "85:\tlearn: 0.3279413\ttest: 0.3489986\tbest: 0.3489986 (85)\ttotal: 44.6s\tremaining: 3m 34s\n",
      "86:\tlearn: 0.3275728\ttest: 0.3488914\tbest: 0.3488914 (86)\ttotal: 45.2s\tremaining: 3m 34s\n",
      "87:\tlearn: 0.3273423\ttest: 0.3487769\tbest: 0.3487769 (87)\ttotal: 45.8s\tremaining: 3m 34s\n",
      "88:\tlearn: 0.3270212\ttest: 0.3485983\tbest: 0.3485983 (88)\ttotal: 46.4s\tremaining: 3m 34s\n",
      "89:\tlearn: 0.3267064\ttest: 0.3484335\tbest: 0.3484335 (89)\ttotal: 46.9s\tremaining: 3m 33s\n",
      "90:\tlearn: 0.3263300\ttest: 0.3482447\tbest: 0.3482447 (90)\ttotal: 47.5s\tremaining: 3m 33s\n",
      "91:\tlearn: 0.3260685\ttest: 0.3480856\tbest: 0.3480856 (91)\ttotal: 48.1s\tremaining: 3m 33s\n",
      "92:\tlearn: 0.3256112\ttest: 0.3479743\tbest: 0.3479743 (92)\ttotal: 48.6s\tremaining: 3m 32s\n"
     ]
    },
    {
     "name": "stdout",
     "output_type": "stream",
     "text": [
      "93:\tlearn: 0.3253539\ttest: 0.3478980\tbest: 0.3478980 (93)\ttotal: 49.2s\tremaining: 3m 32s\n",
      "94:\tlearn: 0.3251010\ttest: 0.3478138\tbest: 0.3478138 (94)\ttotal: 49.8s\tremaining: 3m 32s\n",
      "95:\tlearn: 0.3247292\ttest: 0.3475473\tbest: 0.3475473 (95)\ttotal: 50.4s\tremaining: 3m 31s\n",
      "96:\tlearn: 0.3243763\ttest: 0.3473472\tbest: 0.3473472 (96)\ttotal: 51s\tremaining: 3m 31s\n",
      "97:\tlearn: 0.3240158\ttest: 0.3472144\tbest: 0.3472144 (97)\ttotal: 51.6s\tremaining: 3m 31s\n",
      "98:\tlearn: 0.3235561\ttest: 0.3472114\tbest: 0.3472114 (98)\ttotal: 52.1s\tremaining: 3m 31s\n",
      "99:\tlearn: 0.3231773\ttest: 0.3471236\tbest: 0.3471236 (99)\ttotal: 52.7s\tremaining: 3m 30s\n",
      "100:\tlearn: 0.3228806\ttest: 0.3470198\tbest: 0.3470198 (100)\ttotal: 53.3s\tremaining: 3m 30s\n",
      "101:\tlearn: 0.3225194\ttest: 0.3468595\tbest: 0.3468595 (101)\ttotal: 53.8s\tremaining: 3m 29s\n",
      "102:\tlearn: 0.3223694\ttest: 0.3468394\tbest: 0.3468394 (102)\ttotal: 54.3s\tremaining: 3m 29s\n",
      "103:\tlearn: 0.3220808\ttest: 0.3467985\tbest: 0.3467985 (103)\ttotal: 54.9s\tremaining: 3m 29s\n",
      "104:\tlearn: 0.3215504\ttest: 0.3467720\tbest: 0.3467720 (104)\ttotal: 55.5s\tremaining: 3m 28s\n",
      "105:\tlearn: 0.3208715\ttest: 0.3464857\tbest: 0.3464857 (105)\ttotal: 56s\tremaining: 3m 28s\n",
      "106:\tlearn: 0.3202553\ttest: 0.3464437\tbest: 0.3464437 (106)\ttotal: 56.5s\tremaining: 3m 27s\n",
      "107:\tlearn: 0.3197498\ttest: 0.3463230\tbest: 0.3463230 (107)\ttotal: 57.1s\tremaining: 3m 27s\n",
      "108:\tlearn: 0.3194693\ttest: 0.3462458\tbest: 0.3462458 (108)\ttotal: 57.7s\tremaining: 3m 27s\n",
      "109:\tlearn: 0.3191097\ttest: 0.3460913\tbest: 0.3460913 (109)\ttotal: 58.2s\tremaining: 3m 26s\n",
      "110:\tlearn: 0.3188724\ttest: 0.3460155\tbest: 0.3460155 (110)\ttotal: 58.7s\tremaining: 3m 25s\n",
      "111:\tlearn: 0.3183829\ttest: 0.3459615\tbest: 0.3459615 (111)\ttotal: 59.3s\tremaining: 3m 25s\n",
      "112:\tlearn: 0.3181365\ttest: 0.3458733\tbest: 0.3458733 (112)\ttotal: 59.9s\tremaining: 3m 25s\n",
      "113:\tlearn: 0.3177078\ttest: 0.3457037\tbest: 0.3457037 (113)\ttotal: 1m\tremaining: 3m 24s\n",
      "114:\tlearn: 0.3175466\ttest: 0.3456677\tbest: 0.3456677 (114)\ttotal: 1m 1s\tremaining: 3m 24s\n",
      "115:\tlearn: 0.3172731\ttest: 0.3456293\tbest: 0.3456293 (115)\ttotal: 1m 1s\tremaining: 3m 23s\n",
      "116:\tlearn: 0.3170217\ttest: 0.3455801\tbest: 0.3455801 (116)\ttotal: 1m 2s\tremaining: 3m 23s\n",
      "117:\tlearn: 0.3165716\ttest: 0.3455616\tbest: 0.3455616 (117)\ttotal: 1m 2s\tremaining: 3m 23s\n",
      "118:\tlearn: 0.3162157\ttest: 0.3454502\tbest: 0.3454502 (118)\ttotal: 1m 3s\tremaining: 3m 22s\n",
      "119:\tlearn: 0.3158599\ttest: 0.3454202\tbest: 0.3454202 (119)\ttotal: 1m 3s\tremaining: 3m 21s\n",
      "120:\tlearn: 0.3154530\ttest: 0.3454050\tbest: 0.3454050 (120)\ttotal: 1m 4s\tremaining: 3m 21s\n",
      "121:\tlearn: 0.3148819\ttest: 0.3450713\tbest: 0.3450713 (121)\ttotal: 1m 4s\tremaining: 3m 20s\n",
      "122:\tlearn: 0.3146575\ttest: 0.3450562\tbest: 0.3450562 (122)\ttotal: 1m 5s\tremaining: 3m 20s\n",
      "123:\tlearn: 0.3143002\ttest: 0.3448021\tbest: 0.3448021 (123)\ttotal: 1m 5s\tremaining: 3m 19s\n",
      "124:\tlearn: 0.3140630\ttest: 0.3447726\tbest: 0.3447726 (124)\ttotal: 1m 6s\tremaining: 3m 19s\n",
      "125:\tlearn: 0.3134472\ttest: 0.3447259\tbest: 0.3447259 (125)\ttotal: 1m 6s\tremaining: 3m 18s\n",
      "126:\tlearn: 0.3131331\ttest: 0.3446526\tbest: 0.3446526 (126)\ttotal: 1m 7s\tremaining: 3m 18s\n",
      "127:\tlearn: 0.3128884\ttest: 0.3445826\tbest: 0.3445826 (127)\ttotal: 1m 8s\tremaining: 3m 17s\n",
      "128:\tlearn: 0.3126527\ttest: 0.3445734\tbest: 0.3445734 (128)\ttotal: 1m 8s\tremaining: 3m 17s\n",
      "129:\tlearn: 0.3124281\ttest: 0.3445110\tbest: 0.3445110 (129)\ttotal: 1m 9s\tremaining: 3m 16s\n",
      "130:\tlearn: 0.3120877\ttest: 0.3444767\tbest: 0.3444767 (130)\ttotal: 1m 9s\tremaining: 3m 16s\n",
      "131:\tlearn: 0.3116101\ttest: 0.3444274\tbest: 0.3444274 (131)\ttotal: 1m 10s\tremaining: 3m 15s\n",
      "132:\tlearn: 0.3110729\ttest: 0.3442967\tbest: 0.3442967 (132)\ttotal: 1m 10s\tremaining: 3m 14s\n",
      "133:\tlearn: 0.3109146\ttest: 0.3442685\tbest: 0.3442685 (133)\ttotal: 1m 11s\tremaining: 3m 14s\n",
      "134:\tlearn: 0.3106959\ttest: 0.3442394\tbest: 0.3442394 (134)\ttotal: 1m 11s\tremaining: 3m 14s\n",
      "135:\tlearn: 0.3103819\ttest: 0.3441672\tbest: 0.3441672 (135)\ttotal: 1m 12s\tremaining: 3m 13s\n",
      "136:\tlearn: 0.3101135\ttest: 0.3441416\tbest: 0.3441416 (136)\ttotal: 1m 12s\tremaining: 3m 13s\n",
      "137:\tlearn: 0.3098813\ttest: 0.3440559\tbest: 0.3440559 (137)\ttotal: 1m 13s\tremaining: 3m 12s\n",
      "138:\tlearn: 0.3094552\ttest: 0.3439069\tbest: 0.3439069 (138)\ttotal: 1m 13s\tremaining: 3m 12s\n",
      "139:\tlearn: 0.3092039\ttest: 0.3438999\tbest: 0.3438999 (139)\ttotal: 1m 14s\tremaining: 3m 11s\n",
      "140:\tlearn: 0.3088808\ttest: 0.3438347\tbest: 0.3438347 (140)\ttotal: 1m 15s\tremaining: 3m 11s\n",
      "141:\tlearn: 0.3085163\ttest: 0.3437942\tbest: 0.3437942 (141)\ttotal: 1m 15s\tremaining: 3m 10s\n",
      "142:\tlearn: 0.3082949\ttest: 0.3437256\tbest: 0.3437256 (142)\ttotal: 1m 16s\tremaining: 3m 10s\n",
      "143:\tlearn: 0.3080644\ttest: 0.3437042\tbest: 0.3437042 (143)\ttotal: 1m 16s\tremaining: 3m 9s\n",
      "144:\tlearn: 0.3078682\ttest: 0.3436635\tbest: 0.3436635 (144)\ttotal: 1m 17s\tremaining: 3m 9s\n",
      "145:\tlearn: 0.3076057\ttest: 0.3435641\tbest: 0.3435641 (145)\ttotal: 1m 17s\tremaining: 3m 8s\n",
      "146:\tlearn: 0.3072531\ttest: 0.3435377\tbest: 0.3435377 (146)\ttotal: 1m 18s\tremaining: 3m 8s\n",
      "147:\tlearn: 0.3071079\ttest: 0.3434697\tbest: 0.3434697 (147)\ttotal: 1m 19s\tremaining: 3m 7s\n",
      "148:\tlearn: 0.3068832\ttest: 0.3433937\tbest: 0.3433937 (148)\ttotal: 1m 19s\tremaining: 3m 7s\n",
      "149:\tlearn: 0.3066364\ttest: 0.3433906\tbest: 0.3433906 (149)\ttotal: 1m 20s\tremaining: 3m 6s\n",
      "150:\tlearn: 0.3062618\ttest: 0.3432645\tbest: 0.3432645 (150)\ttotal: 1m 20s\tremaining: 3m 6s\n",
      "151:\tlearn: 0.3060466\ttest: 0.3432458\tbest: 0.3432458 (151)\ttotal: 1m 21s\tremaining: 3m 5s\n",
      "152:\tlearn: 0.3059062\ttest: 0.3431861\tbest: 0.3431861 (152)\ttotal: 1m 21s\tremaining: 3m 5s\n",
      "153:\tlearn: 0.3055704\ttest: 0.3431684\tbest: 0.3431684 (153)\ttotal: 1m 22s\tremaining: 3m 4s\n",
      "154:\tlearn: 0.3051362\ttest: 0.3432009\tbest: 0.3431684 (153)\ttotal: 1m 22s\tremaining: 3m 4s\n",
      "155:\tlearn: 0.3049264\ttest: 0.3431791\tbest: 0.3431684 (153)\ttotal: 1m 23s\tremaining: 3m 3s\n",
      "156:\tlearn: 0.3046317\ttest: 0.3431769\tbest: 0.3431684 (153)\ttotal: 1m 23s\tremaining: 3m 3s\n",
      "157:\tlearn: 0.3041848\ttest: 0.3431494\tbest: 0.3431494 (157)\ttotal: 1m 24s\tremaining: 3m 2s\n",
      "158:\tlearn: 0.3039490\ttest: 0.3431116\tbest: 0.3431116 (158)\ttotal: 1m 25s\tremaining: 3m 2s\n",
      "159:\tlearn: 0.3037205\ttest: 0.3429387\tbest: 0.3429387 (159)\ttotal: 1m 25s\tremaining: 3m 1s\n",
      "160:\tlearn: 0.3034805\ttest: 0.3428454\tbest: 0.3428454 (160)\ttotal: 1m 26s\tremaining: 3m 1s\n",
      "161:\tlearn: 0.3030514\ttest: 0.3428239\tbest: 0.3428239 (161)\ttotal: 1m 26s\tremaining: 3m\n",
      "162:\tlearn: 0.3028076\ttest: 0.3428264\tbest: 0.3428239 (161)\ttotal: 1m 27s\tremaining: 3m\n",
      "163:\tlearn: 0.3027193\ttest: 0.3427974\tbest: 0.3427974 (163)\ttotal: 1m 27s\tremaining: 2m 59s\n",
      "164:\tlearn: 0.3024851\ttest: 0.3428121\tbest: 0.3427974 (163)\ttotal: 1m 28s\tremaining: 2m 59s\n",
      "165:\tlearn: 0.3021115\ttest: 0.3427888\tbest: 0.3427888 (165)\ttotal: 1m 28s\tremaining: 2m 58s\n",
      "166:\tlearn: 0.3018497\ttest: 0.3427790\tbest: 0.3427790 (166)\ttotal: 1m 29s\tremaining: 2m 58s\n",
      "167:\tlearn: 0.3015420\ttest: 0.3427632\tbest: 0.3427632 (167)\ttotal: 1m 30s\tremaining: 2m 57s\n",
      "168:\tlearn: 0.3011055\ttest: 0.3427702\tbest: 0.3427632 (167)\ttotal: 1m 30s\tremaining: 2m 57s\n",
      "169:\tlearn: 0.3009194\ttest: 0.3427836\tbest: 0.3427632 (167)\ttotal: 1m 31s\tremaining: 2m 57s\n",
      "170:\tlearn: 0.3006948\ttest: 0.3426530\tbest: 0.3426530 (170)\ttotal: 1m 31s\tremaining: 2m 56s\n",
      "171:\tlearn: 0.3004348\ttest: 0.3426345\tbest: 0.3426345 (171)\ttotal: 1m 32s\tremaining: 2m 55s\n",
      "172:\tlearn: 0.3001142\ttest: 0.3426037\tbest: 0.3426037 (172)\ttotal: 1m 32s\tremaining: 2m 55s\n",
      "173:\tlearn: 0.2998853\ttest: 0.3425835\tbest: 0.3425835 (173)\ttotal: 1m 33s\tremaining: 2m 54s\n",
      "174:\tlearn: 0.2997421\ttest: 0.3425599\tbest: 0.3425599 (174)\ttotal: 1m 34s\tremaining: 2m 54s\n",
      "175:\tlearn: 0.2993943\ttest: 0.3426050\tbest: 0.3425599 (174)\ttotal: 1m 34s\tremaining: 2m 54s\n",
      "176:\tlearn: 0.2988113\ttest: 0.3425788\tbest: 0.3425599 (174)\ttotal: 1m 35s\tremaining: 2m 53s\n",
      "177:\tlearn: 0.2986519\ttest: 0.3425969\tbest: 0.3425599 (174)\ttotal: 1m 35s\tremaining: 2m 53s\n",
      "178:\tlearn: 0.2985406\ttest: 0.3425629\tbest: 0.3425599 (174)\ttotal: 1m 36s\tremaining: 2m 52s\n",
      "179:\tlearn: 0.2981451\ttest: 0.3425527\tbest: 0.3425527 (179)\ttotal: 1m 36s\tremaining: 2m 52s\n",
      "180:\tlearn: 0.2978275\ttest: 0.3424936\tbest: 0.3424936 (180)\ttotal: 1m 37s\tremaining: 2m 51s\n",
      "181:\tlearn: 0.2974035\ttest: 0.3425146\tbest: 0.3424936 (180)\ttotal: 1m 37s\tremaining: 2m 51s\n",
      "182:\tlearn: 0.2970708\ttest: 0.3424652\tbest: 0.3424652 (182)\ttotal: 1m 38s\tremaining: 2m 50s\n"
     ]
    },
    {
     "name": "stdout",
     "output_type": "stream",
     "text": [
      "183:\tlearn: 0.2968017\ttest: 0.3424724\tbest: 0.3424652 (182)\ttotal: 1m 39s\tremaining: 2m 50s\n",
      "184:\tlearn: 0.2966011\ttest: 0.3424235\tbest: 0.3424235 (184)\ttotal: 1m 39s\tremaining: 2m 49s\n",
      "185:\tlearn: 0.2964466\ttest: 0.3424251\tbest: 0.3424235 (184)\ttotal: 1m 40s\tremaining: 2m 48s\n",
      "186:\tlearn: 0.2962980\ttest: 0.3424430\tbest: 0.3424235 (184)\ttotal: 1m 40s\tremaining: 2m 48s\n",
      "187:\tlearn: 0.2959113\ttest: 0.3424300\tbest: 0.3424235 (184)\ttotal: 1m 41s\tremaining: 2m 47s\n",
      "188:\tlearn: 0.2956566\ttest: 0.3424186\tbest: 0.3424186 (188)\ttotal: 1m 41s\tremaining: 2m 47s\n",
      "189:\tlearn: 0.2953012\ttest: 0.3422635\tbest: 0.3422635 (189)\ttotal: 1m 42s\tremaining: 2m 46s\n",
      "190:\tlearn: 0.2950251\ttest: 0.3422524\tbest: 0.3422524 (190)\ttotal: 1m 42s\tremaining: 2m 46s\n",
      "191:\tlearn: 0.2948437\ttest: 0.3422357\tbest: 0.3422357 (191)\ttotal: 1m 43s\tremaining: 2m 46s\n",
      "192:\tlearn: 0.2947526\ttest: 0.3422034\tbest: 0.3422034 (192)\ttotal: 1m 44s\tremaining: 2m 45s\n",
      "193:\tlearn: 0.2944774\ttest: 0.3421999\tbest: 0.3421999 (193)\ttotal: 1m 44s\tremaining: 2m 45s\n",
      "194:\tlearn: 0.2942996\ttest: 0.3421813\tbest: 0.3421813 (194)\ttotal: 1m 45s\tremaining: 2m 45s\n",
      "195:\tlearn: 0.2940878\ttest: 0.3421434\tbest: 0.3421434 (195)\ttotal: 1m 46s\tremaining: 2m 44s\n",
      "196:\tlearn: 0.2936456\ttest: 0.3420945\tbest: 0.3420945 (196)\ttotal: 1m 46s\tremaining: 2m 44s\n",
      "197:\tlearn: 0.2933740\ttest: 0.3421157\tbest: 0.3420945 (196)\ttotal: 1m 47s\tremaining: 2m 44s\n",
      "198:\tlearn: 0.2931841\ttest: 0.3421521\tbest: 0.3420945 (196)\ttotal: 1m 48s\tremaining: 2m 43s\n",
      "199:\tlearn: 0.2930279\ttest: 0.3421022\tbest: 0.3420945 (196)\ttotal: 1m 48s\tremaining: 2m 43s\n",
      "200:\tlearn: 0.2927681\ttest: 0.3420950\tbest: 0.3420945 (196)\ttotal: 1m 49s\tremaining: 2m 42s\n",
      "201:\tlearn: 0.2924941\ttest: 0.3419904\tbest: 0.3419904 (201)\ttotal: 1m 50s\tremaining: 2m 42s\n",
      "202:\tlearn: 0.2923927\ttest: 0.3419563\tbest: 0.3419563 (202)\ttotal: 1m 50s\tremaining: 2m 42s\n",
      "203:\tlearn: 0.2921613\ttest: 0.3419658\tbest: 0.3419563 (202)\ttotal: 1m 51s\tremaining: 2m 41s\n",
      "204:\tlearn: 0.2919826\ttest: 0.3419657\tbest: 0.3419563 (202)\ttotal: 1m 52s\tremaining: 2m 41s\n",
      "205:\tlearn: 0.2916337\ttest: 0.3419727\tbest: 0.3419563 (202)\ttotal: 1m 52s\tremaining: 2m 40s\n",
      "206:\tlearn: 0.2913524\ttest: 0.3419682\tbest: 0.3419563 (202)\ttotal: 1m 53s\tremaining: 2m 40s\n",
      "207:\tlearn: 0.2911208\ttest: 0.3420017\tbest: 0.3419563 (202)\ttotal: 1m 53s\tremaining: 2m 39s\n",
      "208:\tlearn: 0.2908144\ttest: 0.3419477\tbest: 0.3419477 (208)\ttotal: 1m 54s\tremaining: 2m 39s\n",
      "209:\tlearn: 0.2906708\ttest: 0.3418975\tbest: 0.3418975 (209)\ttotal: 1m 54s\tremaining: 2m 38s\n",
      "210:\tlearn: 0.2904800\ttest: 0.3418672\tbest: 0.3418672 (210)\ttotal: 1m 55s\tremaining: 2m 38s\n",
      "211:\tlearn: 0.2900577\ttest: 0.3418259\tbest: 0.3418259 (211)\ttotal: 1m 55s\tremaining: 2m 37s\n",
      "212:\tlearn: 0.2898371\ttest: 0.3417509\tbest: 0.3417509 (212)\ttotal: 1m 56s\tremaining: 2m 36s\n",
      "213:\tlearn: 0.2893987\ttest: 0.3417433\tbest: 0.3417433 (213)\ttotal: 1m 57s\tremaining: 2m 36s\n",
      "214:\tlearn: 0.2892484\ttest: 0.3417505\tbest: 0.3417433 (213)\ttotal: 1m 57s\tremaining: 2m 35s\n",
      "215:\tlearn: 0.2890720\ttest: 0.3416849\tbest: 0.3416849 (215)\ttotal: 1m 58s\tremaining: 2m 35s\n",
      "216:\tlearn: 0.2889184\ttest: 0.3416565\tbest: 0.3416565 (216)\ttotal: 1m 58s\tremaining: 2m 34s\n",
      "217:\tlearn: 0.2887760\ttest: 0.3416858\tbest: 0.3416565 (216)\ttotal: 1m 59s\tremaining: 2m 34s\n",
      "218:\tlearn: 0.2884720\ttest: 0.3416576\tbest: 0.3416565 (216)\ttotal: 1m 59s\tremaining: 2m 33s\n",
      "219:\tlearn: 0.2882563\ttest: 0.3416562\tbest: 0.3416562 (219)\ttotal: 2m\tremaining: 2m 33s\n",
      "220:\tlearn: 0.2880337\ttest: 0.3416576\tbest: 0.3416562 (219)\ttotal: 2m\tremaining: 2m 32s\n",
      "221:\tlearn: 0.2878375\ttest: 0.3416209\tbest: 0.3416209 (221)\ttotal: 2m 1s\tremaining: 2m 32s\n",
      "222:\tlearn: 0.2876810\ttest: 0.3416144\tbest: 0.3416144 (222)\ttotal: 2m 1s\tremaining: 2m 31s\n",
      "223:\tlearn: 0.2873549\ttest: 0.3415946\tbest: 0.3415946 (223)\ttotal: 2m 2s\tremaining: 2m 30s\n",
      "224:\tlearn: 0.2870611\ttest: 0.3415711\tbest: 0.3415711 (224)\ttotal: 2m 2s\tremaining: 2m 30s\n",
      "225:\tlearn: 0.2867802\ttest: 0.3415652\tbest: 0.3415652 (225)\ttotal: 2m 3s\tremaining: 2m 29s\n",
      "226:\tlearn: 0.2865586\ttest: 0.3415713\tbest: 0.3415652 (225)\ttotal: 2m 4s\tremaining: 2m 29s\n",
      "227:\tlearn: 0.2864054\ttest: 0.3415680\tbest: 0.3415652 (225)\ttotal: 2m 4s\tremaining: 2m 28s\n",
      "228:\tlearn: 0.2860322\ttest: 0.3415652\tbest: 0.3415652 (225)\ttotal: 2m 5s\tremaining: 2m 28s\n",
      "229:\tlearn: 0.2858161\ttest: 0.3415542\tbest: 0.3415542 (229)\ttotal: 2m 5s\tremaining: 2m 27s\n",
      "230:\tlearn: 0.2857059\ttest: 0.3415431\tbest: 0.3415431 (230)\ttotal: 2m 6s\tremaining: 2m 27s\n",
      "231:\tlearn: 0.2853823\ttest: 0.3415653\tbest: 0.3415431 (230)\ttotal: 2m 6s\tremaining: 2m 26s\n",
      "232:\tlearn: 0.2850255\ttest: 0.3415363\tbest: 0.3415363 (232)\ttotal: 2m 7s\tremaining: 2m 25s\n",
      "233:\tlearn: 0.2848450\ttest: 0.3414953\tbest: 0.3414953 (233)\ttotal: 2m 7s\tremaining: 2m 25s\n",
      "234:\tlearn: 0.2846775\ttest: 0.3414842\tbest: 0.3414842 (234)\ttotal: 2m 8s\tremaining: 2m 24s\n",
      "235:\tlearn: 0.2844642\ttest: 0.3414588\tbest: 0.3414588 (235)\ttotal: 2m 8s\tremaining: 2m 24s\n",
      "236:\tlearn: 0.2842500\ttest: 0.3414590\tbest: 0.3414588 (235)\ttotal: 2m 9s\tremaining: 2m 23s\n",
      "237:\tlearn: 0.2839285\ttest: 0.3414570\tbest: 0.3414570 (237)\ttotal: 2m 10s\tremaining: 2m 23s\n",
      "238:\tlearn: 0.2837788\ttest: 0.3414334\tbest: 0.3414334 (238)\ttotal: 2m 10s\tremaining: 2m 22s\n",
      "239:\tlearn: 0.2835732\ttest: 0.3414464\tbest: 0.3414334 (238)\ttotal: 2m 11s\tremaining: 2m 22s\n",
      "240:\tlearn: 0.2832232\ttest: 0.3414684\tbest: 0.3414334 (238)\ttotal: 2m 12s\tremaining: 2m 21s\n",
      "241:\tlearn: 0.2828607\ttest: 0.3414218\tbest: 0.3414218 (241)\ttotal: 2m 12s\tremaining: 2m 21s\n",
      "242:\tlearn: 0.2826956\ttest: 0.3413914\tbest: 0.3413914 (242)\ttotal: 2m 13s\tremaining: 2m 20s\n",
      "243:\tlearn: 0.2823138\ttest: 0.3413828\tbest: 0.3413828 (243)\ttotal: 2m 13s\tremaining: 2m 20s\n",
      "244:\tlearn: 0.2821534\ttest: 0.3413464\tbest: 0.3413464 (244)\ttotal: 2m 14s\tremaining: 2m 19s\n",
      "245:\tlearn: 0.2819591\ttest: 0.3413673\tbest: 0.3413464 (244)\ttotal: 2m 14s\tremaining: 2m 19s\n",
      "246:\tlearn: 0.2817994\ttest: 0.3413333\tbest: 0.3413333 (246)\ttotal: 2m 15s\tremaining: 2m 18s\n",
      "247:\tlearn: 0.2816929\ttest: 0.3412900\tbest: 0.3412900 (247)\ttotal: 2m 15s\tremaining: 2m 18s\n",
      "248:\tlearn: 0.2814981\ttest: 0.3412867\tbest: 0.3412867 (248)\ttotal: 2m 16s\tremaining: 2m 17s\n",
      "249:\tlearn: 0.2812658\ttest: 0.3412797\tbest: 0.3412797 (249)\ttotal: 2m 17s\tremaining: 2m 17s\n",
      "250:\tlearn: 0.2809836\ttest: 0.3412918\tbest: 0.3412797 (249)\ttotal: 2m 17s\tremaining: 2m 16s\n",
      "251:\tlearn: 0.2808841\ttest: 0.3413038\tbest: 0.3412797 (249)\ttotal: 2m 18s\tremaining: 2m 16s\n",
      "252:\tlearn: 0.2806458\ttest: 0.3412839\tbest: 0.3412797 (249)\ttotal: 2m 18s\tremaining: 2m 15s\n",
      "253:\tlearn: 0.2804498\ttest: 0.3413016\tbest: 0.3412797 (249)\ttotal: 2m 19s\tremaining: 2m 14s\n",
      "254:\tlearn: 0.2802410\ttest: 0.3412997\tbest: 0.3412797 (249)\ttotal: 2m 19s\tremaining: 2m 14s\n",
      "255:\tlearn: 0.2801081\ttest: 0.3412684\tbest: 0.3412684 (255)\ttotal: 2m 20s\tremaining: 2m 14s\n",
      "256:\tlearn: 0.2797999\ttest: 0.3412651\tbest: 0.3412651 (256)\ttotal: 2m 21s\tremaining: 2m 13s\n",
      "257:\tlearn: 0.2794943\ttest: 0.3412055\tbest: 0.3412055 (257)\ttotal: 2m 21s\tremaining: 2m 12s\n",
      "258:\tlearn: 0.2792807\ttest: 0.3412268\tbest: 0.3412055 (257)\ttotal: 2m 22s\tremaining: 2m 12s\n",
      "259:\tlearn: 0.2789446\ttest: 0.3412372\tbest: 0.3412055 (257)\ttotal: 2m 22s\tremaining: 2m 11s\n",
      "260:\tlearn: 0.2788733\ttest: 0.3412490\tbest: 0.3412055 (257)\ttotal: 2m 23s\tremaining: 2m 11s\n",
      "261:\tlearn: 0.2786686\ttest: 0.3411906\tbest: 0.3411906 (261)\ttotal: 2m 23s\tremaining: 2m 10s\n",
      "262:\tlearn: 0.2783776\ttest: 0.3412210\tbest: 0.3411906 (261)\ttotal: 2m 24s\tremaining: 2m 10s\n",
      "263:\tlearn: 0.2780085\ttest: 0.3412225\tbest: 0.3411906 (261)\ttotal: 2m 25s\tremaining: 2m 9s\n",
      "264:\tlearn: 0.2778308\ttest: 0.3411871\tbest: 0.3411871 (264)\ttotal: 2m 25s\tremaining: 2m 9s\n",
      "265:\tlearn: 0.2775718\ttest: 0.3411811\tbest: 0.3411811 (265)\ttotal: 2m 26s\tremaining: 2m 8s\n",
      "266:\tlearn: 0.2774692\ttest: 0.3411814\tbest: 0.3411811 (265)\ttotal: 2m 26s\tremaining: 2m 8s\n",
      "267:\tlearn: 0.2771193\ttest: 0.3411595\tbest: 0.3411595 (267)\ttotal: 2m 27s\tremaining: 2m 7s\n",
      "268:\tlearn: 0.2769325\ttest: 0.3411504\tbest: 0.3411504 (268)\ttotal: 2m 27s\tremaining: 2m 6s\n",
      "269:\tlearn: 0.2767051\ttest: 0.3411641\tbest: 0.3411504 (268)\ttotal: 2m 28s\tremaining: 2m 6s\n",
      "270:\tlearn: 0.2764708\ttest: 0.3411410\tbest: 0.3411410 (270)\ttotal: 2m 28s\tremaining: 2m 5s\n",
      "271:\tlearn: 0.2762795\ttest: 0.3411528\tbest: 0.3411410 (270)\ttotal: 2m 29s\tremaining: 2m 5s\n",
      "272:\tlearn: 0.2760866\ttest: 0.3411334\tbest: 0.3411334 (272)\ttotal: 2m 30s\tremaining: 2m 4s\n"
     ]
    },
    {
     "name": "stdout",
     "output_type": "stream",
     "text": [
      "273:\tlearn: 0.2758362\ttest: 0.3411155\tbest: 0.3411155 (273)\ttotal: 2m 30s\tremaining: 2m 4s\n",
      "274:\tlearn: 0.2756735\ttest: 0.3411529\tbest: 0.3411155 (273)\ttotal: 2m 31s\tremaining: 2m 3s\n",
      "275:\tlearn: 0.2755633\ttest: 0.3411489\tbest: 0.3411155 (273)\ttotal: 2m 31s\tremaining: 2m 3s\n",
      "276:\tlearn: 0.2754049\ttest: 0.3411353\tbest: 0.3411155 (273)\ttotal: 2m 32s\tremaining: 2m 2s\n",
      "277:\tlearn: 0.2749705\ttest: 0.3411901\tbest: 0.3411155 (273)\ttotal: 2m 33s\tremaining: 2m 2s\n",
      "278:\tlearn: 0.2747232\ttest: 0.3412215\tbest: 0.3411155 (273)\ttotal: 2m 33s\tremaining: 2m 1s\n",
      "279:\tlearn: 0.2746292\ttest: 0.3412252\tbest: 0.3411155 (273)\ttotal: 2m 34s\tremaining: 2m 1s\n",
      "280:\tlearn: 0.2744090\ttest: 0.3412433\tbest: 0.3411155 (273)\ttotal: 2m 34s\tremaining: 2m\n",
      "281:\tlearn: 0.2739984\ttest: 0.3412794\tbest: 0.3411155 (273)\ttotal: 2m 35s\tremaining: 2m\n",
      "282:\tlearn: 0.2738597\ttest: 0.3412849\tbest: 0.3411155 (273)\ttotal: 2m 36s\tremaining: 1m 59s\n",
      "283:\tlearn: 0.2736601\ttest: 0.3412400\tbest: 0.3411155 (273)\ttotal: 2m 36s\tremaining: 1m 59s\n",
      "284:\tlearn: 0.2733006\ttest: 0.3412123\tbest: 0.3411155 (273)\ttotal: 2m 37s\tremaining: 1m 58s\n",
      "285:\tlearn: 0.2730597\ttest: 0.3411899\tbest: 0.3411155 (273)\ttotal: 2m 37s\tremaining: 1m 57s\n",
      "286:\tlearn: 0.2727719\ttest: 0.3412343\tbest: 0.3411155 (273)\ttotal: 2m 38s\tremaining: 1m 57s\n",
      "287:\tlearn: 0.2726145\ttest: 0.3412183\tbest: 0.3411155 (273)\ttotal: 2m 38s\tremaining: 1m 56s\n",
      "288:\tlearn: 0.2724312\ttest: 0.3412082\tbest: 0.3411155 (273)\ttotal: 2m 39s\tremaining: 1m 56s\n",
      "289:\tlearn: 0.2721917\ttest: 0.3412215\tbest: 0.3411155 (273)\ttotal: 2m 39s\tremaining: 1m 55s\n",
      "290:\tlearn: 0.2720073\ttest: 0.3412113\tbest: 0.3411155 (273)\ttotal: 2m 40s\tremaining: 1m 55s\n",
      "291:\tlearn: 0.2718309\ttest: 0.3412134\tbest: 0.3411155 (273)\ttotal: 2m 40s\tremaining: 1m 54s\n",
      "292:\tlearn: 0.2715922\ttest: 0.3412154\tbest: 0.3411155 (273)\ttotal: 2m 41s\tremaining: 1m 54s\n",
      "293:\tlearn: 0.2713659\ttest: 0.3411527\tbest: 0.3411155 (273)\ttotal: 2m 41s\tremaining: 1m 53s\n",
      "294:\tlearn: 0.2712162\ttest: 0.3411415\tbest: 0.3411155 (273)\ttotal: 2m 42s\tremaining: 1m 52s\n",
      "295:\tlearn: 0.2709876\ttest: 0.3411273\tbest: 0.3411155 (273)\ttotal: 2m 43s\tremaining: 1m 52s\n",
      "296:\tlearn: 0.2707711\ttest: 0.3411016\tbest: 0.3411016 (296)\ttotal: 2m 43s\tremaining: 1m 51s\n",
      "297:\tlearn: 0.2706389\ttest: 0.3410925\tbest: 0.3410925 (297)\ttotal: 2m 44s\tremaining: 1m 51s\n",
      "298:\tlearn: 0.2703837\ttest: 0.3411092\tbest: 0.3410925 (297)\ttotal: 2m 44s\tremaining: 1m 50s\n",
      "299:\tlearn: 0.2699466\ttest: 0.3411136\tbest: 0.3410925 (297)\ttotal: 2m 45s\tremaining: 1m 50s\n",
      "300:\tlearn: 0.2698966\ttest: 0.3411079\tbest: 0.3410925 (297)\ttotal: 2m 45s\tremaining: 1m 49s\n",
      "301:\tlearn: 0.2697016\ttest: 0.3410865\tbest: 0.3410865 (301)\ttotal: 2m 46s\tremaining: 1m 49s\n",
      "302:\tlearn: 0.2695414\ttest: 0.3411049\tbest: 0.3410865 (301)\ttotal: 2m 46s\tremaining: 1m 48s\n",
      "303:\tlearn: 0.2694211\ttest: 0.3411347\tbest: 0.3410865 (301)\ttotal: 2m 47s\tremaining: 1m 47s\n",
      "304:\tlearn: 0.2693344\ttest: 0.3411276\tbest: 0.3410865 (301)\ttotal: 2m 48s\tremaining: 1m 47s\n",
      "305:\tlearn: 0.2692310\ttest: 0.3411134\tbest: 0.3410865 (301)\ttotal: 2m 48s\tremaining: 1m 46s\n",
      "306:\tlearn: 0.2690340\ttest: 0.3411254\tbest: 0.3410865 (301)\ttotal: 2m 49s\tremaining: 1m 46s\n",
      "307:\tlearn: 0.2688760\ttest: 0.3411260\tbest: 0.3410865 (301)\ttotal: 2m 49s\tremaining: 1m 45s\n",
      "308:\tlearn: 0.2687068\ttest: 0.3410647\tbest: 0.3410647 (308)\ttotal: 2m 50s\tremaining: 1m 45s\n",
      "309:\tlearn: 0.2685441\ttest: 0.3410654\tbest: 0.3410647 (308)\ttotal: 2m 50s\tremaining: 1m 44s\n",
      "310:\tlearn: 0.2682680\ttest: 0.3410842\tbest: 0.3410647 (308)\ttotal: 2m 51s\tremaining: 1m 44s\n",
      "311:\tlearn: 0.2679887\ttest: 0.3410896\tbest: 0.3410647 (308)\ttotal: 2m 51s\tremaining: 1m 43s\n",
      "312:\tlearn: 0.2677482\ttest: 0.3410717\tbest: 0.3410647 (308)\ttotal: 2m 52s\tremaining: 1m 43s\n",
      "313:\tlearn: 0.2675735\ttest: 0.3410894\tbest: 0.3410647 (308)\ttotal: 2m 53s\tremaining: 1m 42s\n",
      "314:\tlearn: 0.2673118\ttest: 0.3410842\tbest: 0.3410647 (308)\ttotal: 2m 53s\tremaining: 1m 42s\n",
      "315:\tlearn: 0.2672234\ttest: 0.3410636\tbest: 0.3410636 (315)\ttotal: 2m 54s\tremaining: 1m 41s\n",
      "316:\tlearn: 0.2671115\ttest: 0.3410641\tbest: 0.3410636 (315)\ttotal: 2m 54s\tremaining: 1m 40s\n",
      "317:\tlearn: 0.2669567\ttest: 0.3410476\tbest: 0.3410476 (317)\ttotal: 2m 55s\tremaining: 1m 40s\n",
      "318:\tlearn: 0.2668219\ttest: 0.3410691\tbest: 0.3410476 (317)\ttotal: 2m 56s\tremaining: 1m 39s\n",
      "319:\tlearn: 0.2666516\ttest: 0.3410642\tbest: 0.3410476 (317)\ttotal: 2m 56s\tremaining: 1m 39s\n",
      "320:\tlearn: 0.2665288\ttest: 0.3410385\tbest: 0.3410385 (320)\ttotal: 2m 57s\tremaining: 1m 38s\n",
      "321:\tlearn: 0.2663012\ttest: 0.3410836\tbest: 0.3410385 (320)\ttotal: 2m 57s\tremaining: 1m 38s\n",
      "322:\tlearn: 0.2662085\ttest: 0.3410907\tbest: 0.3410385 (320)\ttotal: 2m 58s\tremaining: 1m 37s\n",
      "323:\tlearn: 0.2660514\ttest: 0.3410470\tbest: 0.3410385 (320)\ttotal: 2m 58s\tremaining: 1m 37s\n",
      "324:\tlearn: 0.2658349\ttest: 0.3410434\tbest: 0.3410385 (320)\ttotal: 2m 59s\tremaining: 1m 36s\n",
      "325:\tlearn: 0.2655844\ttest: 0.3410462\tbest: 0.3410385 (320)\ttotal: 2m 59s\tremaining: 1m 36s\n",
      "326:\tlearn: 0.2654320\ttest: 0.3410607\tbest: 0.3410385 (320)\ttotal: 3m\tremaining: 1m 35s\n",
      "327:\tlearn: 0.2650726\ttest: 0.3409998\tbest: 0.3409998 (327)\ttotal: 3m 1s\tremaining: 1m 34s\n",
      "328:\tlearn: 0.2649558\ttest: 0.3410191\tbest: 0.3409998 (327)\ttotal: 3m 1s\tremaining: 1m 34s\n",
      "329:\tlearn: 0.2649123\ttest: 0.3410172\tbest: 0.3409998 (327)\ttotal: 3m 2s\tremaining: 1m 33s\n",
      "330:\tlearn: 0.2647732\ttest: 0.3410089\tbest: 0.3409998 (327)\ttotal: 3m 2s\tremaining: 1m 33s\n",
      "331:\tlearn: 0.2646261\ttest: 0.3410034\tbest: 0.3409998 (327)\ttotal: 3m 3s\tremaining: 1m 32s\n",
      "332:\tlearn: 0.2644625\ttest: 0.3410164\tbest: 0.3409998 (327)\ttotal: 3m 4s\tremaining: 1m 32s\n",
      "333:\tlearn: 0.2643395\ttest: 0.3409870\tbest: 0.3409870 (333)\ttotal: 3m 4s\tremaining: 1m 31s\n",
      "334:\tlearn: 0.2641661\ttest: 0.3409854\tbest: 0.3409854 (334)\ttotal: 3m 5s\tremaining: 1m 31s\n",
      "335:\tlearn: 0.2639399\ttest: 0.3409996\tbest: 0.3409854 (334)\ttotal: 3m 5s\tremaining: 1m 30s\n",
      "336:\tlearn: 0.2637701\ttest: 0.3409674\tbest: 0.3409674 (336)\ttotal: 3m 6s\tremaining: 1m 30s\n",
      "337:\tlearn: 0.2637054\ttest: 0.3409737\tbest: 0.3409674 (336)\ttotal: 3m 7s\tremaining: 1m 29s\n",
      "338:\tlearn: 0.2635851\ttest: 0.3409994\tbest: 0.3409674 (336)\ttotal: 3m 7s\tremaining: 1m 29s\n",
      "339:\tlearn: 0.2634016\ttest: 0.3409742\tbest: 0.3409674 (336)\ttotal: 3m 8s\tremaining: 1m 28s\n",
      "340:\tlearn: 0.2631938\ttest: 0.3409998\tbest: 0.3409674 (336)\ttotal: 3m 9s\tremaining: 1m 28s\n",
      "341:\tlearn: 0.2631244\ttest: 0.3410243\tbest: 0.3409674 (336)\ttotal: 3m 9s\tremaining: 1m 27s\n",
      "342:\tlearn: 0.2629625\ttest: 0.3410065\tbest: 0.3409674 (336)\ttotal: 3m 10s\tremaining: 1m 27s\n",
      "343:\tlearn: 0.2628209\ttest: 0.3410020\tbest: 0.3409674 (336)\ttotal: 3m 10s\tremaining: 1m 26s\n",
      "344:\tlearn: 0.2627755\ttest: 0.3409952\tbest: 0.3409674 (336)\ttotal: 3m 11s\tremaining: 1m 26s\n",
      "345:\tlearn: 0.2625379\ttest: 0.3410049\tbest: 0.3409674 (336)\ttotal: 3m 12s\tremaining: 1m 25s\n",
      "346:\tlearn: 0.2623868\ttest: 0.3409765\tbest: 0.3409674 (336)\ttotal: 3m 12s\tremaining: 1m 24s\n",
      "347:\tlearn: 0.2621226\ttest: 0.3410347\tbest: 0.3409674 (336)\ttotal: 3m 13s\tremaining: 1m 24s\n",
      "348:\tlearn: 0.2619636\ttest: 0.3410357\tbest: 0.3409674 (336)\ttotal: 3m 13s\tremaining: 1m 23s\n",
      "349:\tlearn: 0.2616872\ttest: 0.3410157\tbest: 0.3409674 (336)\ttotal: 3m 14s\tremaining: 1m 23s\n",
      "350:\tlearn: 0.2615625\ttest: 0.3410333\tbest: 0.3409674 (336)\ttotal: 3m 14s\tremaining: 1m 22s\n",
      "351:\tlearn: 0.2614519\ttest: 0.3410069\tbest: 0.3409674 (336)\ttotal: 3m 15s\tremaining: 1m 22s\n",
      "352:\tlearn: 0.2612606\ttest: 0.3410175\tbest: 0.3409674 (336)\ttotal: 3m 15s\tremaining: 1m 21s\n",
      "353:\tlearn: 0.2611262\ttest: 0.3410061\tbest: 0.3409674 (336)\ttotal: 3m 16s\tremaining: 1m 21s\n",
      "354:\tlearn: 0.2610333\ttest: 0.3409821\tbest: 0.3409674 (336)\ttotal: 3m 16s\tremaining: 1m 20s\n",
      "355:\tlearn: 0.2608685\ttest: 0.3409752\tbest: 0.3409674 (336)\ttotal: 3m 17s\tremaining: 1m 19s\n",
      "356:\tlearn: 0.2607705\ttest: 0.3409820\tbest: 0.3409674 (336)\ttotal: 3m 18s\tremaining: 1m 19s\n",
      "357:\tlearn: 0.2604993\ttest: 0.3410339\tbest: 0.3409674 (336)\ttotal: 3m 18s\tremaining: 1m 18s\n",
      "358:\tlearn: 0.2603458\ttest: 0.3410167\tbest: 0.3409674 (336)\ttotal: 3m 19s\tremaining: 1m 18s\n",
      "359:\tlearn: 0.2601441\ttest: 0.3410353\tbest: 0.3409674 (336)\ttotal: 3m 19s\tremaining: 1m 17s\n",
      "360:\tlearn: 0.2599919\ttest: 0.3410333\tbest: 0.3409674 (336)\ttotal: 3m 20s\tremaining: 1m 17s\n",
      "361:\tlearn: 0.2598419\ttest: 0.3410261\tbest: 0.3409674 (336)\ttotal: 3m 20s\tremaining: 1m 16s\n",
      "362:\tlearn: 0.2597322\ttest: 0.3410495\tbest: 0.3409674 (336)\ttotal: 3m 21s\tremaining: 1m 16s\n"
     ]
    },
    {
     "name": "stdout",
     "output_type": "stream",
     "text": [
      "363:\tlearn: 0.2595120\ttest: 0.3410010\tbest: 0.3409674 (336)\ttotal: 3m 21s\tremaining: 1m 15s\n",
      "364:\tlearn: 0.2593754\ttest: 0.3409824\tbest: 0.3409674 (336)\ttotal: 3m 22s\tremaining: 1m 14s\n",
      "365:\tlearn: 0.2591585\ttest: 0.3409911\tbest: 0.3409674 (336)\ttotal: 3m 22s\tremaining: 1m 14s\n",
      "366:\tlearn: 0.2589084\ttest: 0.3410101\tbest: 0.3409674 (336)\ttotal: 3m 23s\tremaining: 1m 13s\n",
      "367:\tlearn: 0.2587361\ttest: 0.3410038\tbest: 0.3409674 (336)\ttotal: 3m 24s\tremaining: 1m 13s\n",
      "368:\tlearn: 0.2585901\ttest: 0.3409904\tbest: 0.3409674 (336)\ttotal: 3m 24s\tremaining: 1m 12s\n",
      "369:\tlearn: 0.2584133\ttest: 0.3409499\tbest: 0.3409499 (369)\ttotal: 3m 25s\tremaining: 1m 12s\n",
      "370:\tlearn: 0.2582812\ttest: 0.3409092\tbest: 0.3409092 (370)\ttotal: 3m 25s\tremaining: 1m 11s\n",
      "371:\tlearn: 0.2580725\ttest: 0.3408769\tbest: 0.3408769 (371)\ttotal: 3m 26s\tremaining: 1m 11s\n",
      "372:\tlearn: 0.2579343\ttest: 0.3408818\tbest: 0.3408769 (371)\ttotal: 3m 26s\tremaining: 1m 10s\n",
      "373:\tlearn: 0.2576129\ttest: 0.3409022\tbest: 0.3408769 (371)\ttotal: 3m 27s\tremaining: 1m 9s\n",
      "374:\tlearn: 0.2575856\ttest: 0.3409052\tbest: 0.3408769 (371)\ttotal: 3m 28s\tremaining: 1m 9s\n",
      "375:\tlearn: 0.2573601\ttest: 0.3408671\tbest: 0.3408671 (375)\ttotal: 3m 28s\tremaining: 1m 8s\n",
      "376:\tlearn: 0.2571983\ttest: 0.3408330\tbest: 0.3408330 (376)\ttotal: 3m 29s\tremaining: 1m 8s\n",
      "377:\tlearn: 0.2571644\ttest: 0.3408283\tbest: 0.3408283 (377)\ttotal: 3m 29s\tremaining: 1m 7s\n",
      "378:\tlearn: 0.2569933\ttest: 0.3408266\tbest: 0.3408266 (378)\ttotal: 3m 30s\tremaining: 1m 7s\n",
      "379:\tlearn: 0.2568209\ttest: 0.3408527\tbest: 0.3408266 (378)\ttotal: 3m 31s\tremaining: 1m 6s\n",
      "380:\tlearn: 0.2566685\ttest: 0.3408163\tbest: 0.3408163 (380)\ttotal: 3m 31s\tremaining: 1m 6s\n",
      "381:\tlearn: 0.2564309\ttest: 0.3408272\tbest: 0.3408163 (380)\ttotal: 3m 32s\tremaining: 1m 5s\n",
      "382:\tlearn: 0.2561856\ttest: 0.3408445\tbest: 0.3408163 (380)\ttotal: 3m 32s\tremaining: 1m 4s\n",
      "383:\tlearn: 0.2558942\ttest: 0.3407875\tbest: 0.3407875 (383)\ttotal: 3m 33s\tremaining: 1m 4s\n",
      "384:\tlearn: 0.2557453\ttest: 0.3407745\tbest: 0.3407745 (384)\ttotal: 3m 33s\tremaining: 1m 3s\n",
      "385:\tlearn: 0.2556481\ttest: 0.3407564\tbest: 0.3407564 (385)\ttotal: 3m 34s\tremaining: 1m 3s\n",
      "386:\tlearn: 0.2554587\ttest: 0.3407888\tbest: 0.3407564 (385)\ttotal: 3m 34s\tremaining: 1m 2s\n",
      "387:\tlearn: 0.2552693\ttest: 0.3408205\tbest: 0.3407564 (385)\ttotal: 3m 35s\tremaining: 1m 2s\n",
      "388:\tlearn: 0.2550819\ttest: 0.3408287\tbest: 0.3407564 (385)\ttotal: 3m 35s\tremaining: 1m 1s\n",
      "389:\tlearn: 0.2548395\ttest: 0.3408446\tbest: 0.3407564 (385)\ttotal: 3m 36s\tremaining: 1m 1s\n",
      "390:\tlearn: 0.2546060\ttest: 0.3408433\tbest: 0.3407564 (385)\ttotal: 3m 37s\tremaining: 1m\n",
      "391:\tlearn: 0.2543219\ttest: 0.3408447\tbest: 0.3407564 (385)\ttotal: 3m 37s\tremaining: 60s\n",
      "392:\tlearn: 0.2539796\ttest: 0.3408751\tbest: 0.3407564 (385)\ttotal: 3m 38s\tremaining: 59.4s\n",
      "393:\tlearn: 0.2538679\ttest: 0.3408670\tbest: 0.3407564 (385)\ttotal: 3m 38s\tremaining: 58.9s\n",
      "394:\tlearn: 0.2537638\ttest: 0.3408630\tbest: 0.3407564 (385)\ttotal: 3m 39s\tremaining: 58.3s\n",
      "395:\tlearn: 0.2535530\ttest: 0.3408464\tbest: 0.3407564 (385)\ttotal: 3m 40s\tremaining: 57.8s\n",
      "396:\tlearn: 0.2533325\ttest: 0.3408598\tbest: 0.3407564 (385)\ttotal: 3m 40s\tremaining: 57.2s\n",
      "397:\tlearn: 0.2532480\ttest: 0.3408755\tbest: 0.3407564 (385)\ttotal: 3m 41s\tremaining: 56.7s\n",
      "398:\tlearn: 0.2532049\ttest: 0.3408796\tbest: 0.3407564 (385)\ttotal: 3m 41s\tremaining: 56.1s\n",
      "399:\tlearn: 0.2529884\ttest: 0.3408959\tbest: 0.3407564 (385)\ttotal: 3m 42s\tremaining: 55.6s\n",
      "400:\tlearn: 0.2527085\ttest: 0.3408598\tbest: 0.3407564 (385)\ttotal: 3m 42s\tremaining: 55s\n",
      "401:\tlearn: 0.2526487\ttest: 0.3408561\tbest: 0.3407564 (385)\ttotal: 3m 43s\tremaining: 54.5s\n",
      "402:\tlearn: 0.2524865\ttest: 0.3408613\tbest: 0.3407564 (385)\ttotal: 3m 43s\tremaining: 53.9s\n",
      "403:\tlearn: 0.2522809\ttest: 0.3408906\tbest: 0.3407564 (385)\ttotal: 3m 44s\tremaining: 53.4s\n",
      "404:\tlearn: 0.2521476\ttest: 0.3409016\tbest: 0.3407564 (385)\ttotal: 3m 45s\tremaining: 52.8s\n",
      "405:\tlearn: 0.2519944\ttest: 0.3409486\tbest: 0.3407564 (385)\ttotal: 3m 45s\tremaining: 52.2s\n",
      "406:\tlearn: 0.2518992\ttest: 0.3409468\tbest: 0.3407564 (385)\ttotal: 3m 46s\tremaining: 51.7s\n",
      "407:\tlearn: 0.2517706\ttest: 0.3409345\tbest: 0.3407564 (385)\ttotal: 3m 46s\tremaining: 51.1s\n",
      "408:\tlearn: 0.2516216\ttest: 0.3409306\tbest: 0.3407564 (385)\ttotal: 3m 47s\tremaining: 50.6s\n",
      "409:\tlearn: 0.2514536\ttest: 0.3409401\tbest: 0.3407564 (385)\ttotal: 3m 47s\tremaining: 50s\n",
      "410:\tlearn: 0.2513348\ttest: 0.3409677\tbest: 0.3407564 (385)\ttotal: 3m 48s\tremaining: 49.4s\n",
      "411:\tlearn: 0.2511122\ttest: 0.3409458\tbest: 0.3407564 (385)\ttotal: 3m 48s\tremaining: 48.9s\n",
      "412:\tlearn: 0.2509693\ttest: 0.3409828\tbest: 0.3407564 (385)\ttotal: 3m 49s\tremaining: 48.3s\n",
      "413:\tlearn: 0.2507336\ttest: 0.3409940\tbest: 0.3407564 (385)\ttotal: 3m 50s\tremaining: 47.8s\n",
      "414:\tlearn: 0.2505348\ttest: 0.3409587\tbest: 0.3407564 (385)\ttotal: 3m 50s\tremaining: 47.2s\n",
      "415:\tlearn: 0.2503054\ttest: 0.3409682\tbest: 0.3407564 (385)\ttotal: 3m 51s\tremaining: 46.7s\n",
      "416:\tlearn: 0.2502245\ttest: 0.3409819\tbest: 0.3407564 (385)\ttotal: 3m 51s\tremaining: 46.1s\n",
      "417:\tlearn: 0.2501043\ttest: 0.3410208\tbest: 0.3407564 (385)\ttotal: 3m 52s\tremaining: 45.6s\n",
      "418:\tlearn: 0.2498878\ttest: 0.3410202\tbest: 0.3407564 (385)\ttotal: 3m 52s\tremaining: 45s\n",
      "419:\tlearn: 0.2497648\ttest: 0.3410120\tbest: 0.3407564 (385)\ttotal: 3m 53s\tremaining: 44.5s\n",
      "420:\tlearn: 0.2496256\ttest: 0.3410117\tbest: 0.3407564 (385)\ttotal: 3m 54s\tremaining: 43.9s\n",
      "421:\tlearn: 0.2494283\ttest: 0.3410373\tbest: 0.3407564 (385)\ttotal: 3m 54s\tremaining: 43.4s\n",
      "422:\tlearn: 0.2493942\ttest: 0.3410354\tbest: 0.3407564 (385)\ttotal: 3m 55s\tremaining: 42.8s\n",
      "423:\tlearn: 0.2491469\ttest: 0.3410533\tbest: 0.3407564 (385)\ttotal: 3m 55s\tremaining: 42.3s\n",
      "424:\tlearn: 0.2489472\ttest: 0.3410171\tbest: 0.3407564 (385)\ttotal: 3m 56s\tremaining: 41.7s\n",
      "425:\tlearn: 0.2488643\ttest: 0.3410238\tbest: 0.3407564 (385)\ttotal: 3m 56s\tremaining: 41.1s\n",
      "426:\tlearn: 0.2487420\ttest: 0.3410320\tbest: 0.3407564 (385)\ttotal: 3m 57s\tremaining: 40.6s\n",
      "427:\tlearn: 0.2485955\ttest: 0.3410379\tbest: 0.3407564 (385)\ttotal: 3m 57s\tremaining: 40s\n",
      "428:\tlearn: 0.2485330\ttest: 0.3410444\tbest: 0.3407564 (385)\ttotal: 3m 58s\tremaining: 39.5s\n",
      "429:\tlearn: 0.2484453\ttest: 0.3410506\tbest: 0.3407564 (385)\ttotal: 3m 59s\tremaining: 38.9s\n",
      "430:\tlearn: 0.2482425\ttest: 0.3410510\tbest: 0.3407564 (385)\ttotal: 3m 59s\tremaining: 38.4s\n",
      "431:\tlearn: 0.2481333\ttest: 0.3410532\tbest: 0.3407564 (385)\ttotal: 4m\tremaining: 37.8s\n",
      "432:\tlearn: 0.2480611\ttest: 0.3410663\tbest: 0.3407564 (385)\ttotal: 4m\tremaining: 37.2s\n",
      "433:\tlearn: 0.2478313\ttest: 0.3411167\tbest: 0.3407564 (385)\ttotal: 4m 1s\tremaining: 36.7s\n",
      "434:\tlearn: 0.2477268\ttest: 0.3411132\tbest: 0.3407564 (385)\ttotal: 4m 1s\tremaining: 36.1s\n",
      "435:\tlearn: 0.2474729\ttest: 0.3410907\tbest: 0.3407564 (385)\ttotal: 4m 2s\tremaining: 35.6s\n",
      "436:\tlearn: 0.2472545\ttest: 0.3410814\tbest: 0.3407564 (385)\ttotal: 4m 2s\tremaining: 35s\n",
      "437:\tlearn: 0.2471045\ttest: 0.3410792\tbest: 0.3407564 (385)\ttotal: 4m 3s\tremaining: 34.4s\n",
      "438:\tlearn: 0.2468775\ttest: 0.3410836\tbest: 0.3407564 (385)\ttotal: 4m 3s\tremaining: 33.9s\n",
      "439:\tlearn: 0.2466548\ttest: 0.3411001\tbest: 0.3407564 (385)\ttotal: 4m 4s\tremaining: 33.3s\n",
      "440:\tlearn: 0.2464192\ttest: 0.3411317\tbest: 0.3407564 (385)\ttotal: 4m 4s\tremaining: 32.8s\n",
      "441:\tlearn: 0.2461905\ttest: 0.3411568\tbest: 0.3407564 (385)\ttotal: 4m 5s\tremaining: 32.2s\n",
      "442:\tlearn: 0.2460606\ttest: 0.3411530\tbest: 0.3407564 (385)\ttotal: 4m 6s\tremaining: 31.7s\n",
      "443:\tlearn: 0.2459491\ttest: 0.3411887\tbest: 0.3407564 (385)\ttotal: 4m 6s\tremaining: 31.1s\n",
      "444:\tlearn: 0.2458684\ttest: 0.3412029\tbest: 0.3407564 (385)\ttotal: 4m 7s\tremaining: 30.5s\n",
      "445:\tlearn: 0.2457692\ttest: 0.3411962\tbest: 0.3407564 (385)\ttotal: 4m 7s\tremaining: 30s\n",
      "446:\tlearn: 0.2456665\ttest: 0.3412103\tbest: 0.3407564 (385)\ttotal: 4m 8s\tremaining: 29.4s\n",
      "447:\tlearn: 0.2455115\ttest: 0.3412361\tbest: 0.3407564 (385)\ttotal: 4m 8s\tremaining: 28.9s\n",
      "448:\tlearn: 0.2453895\ttest: 0.3412151\tbest: 0.3407564 (385)\ttotal: 4m 9s\tremaining: 28.3s\n",
      "449:\tlearn: 0.2452476\ttest: 0.3411863\tbest: 0.3407564 (385)\ttotal: 4m 9s\tremaining: 27.7s\n",
      "450:\tlearn: 0.2450877\ttest: 0.3412287\tbest: 0.3407564 (385)\ttotal: 4m 10s\tremaining: 27.2s\n",
      "451:\tlearn: 0.2449438\ttest: 0.3412305\tbest: 0.3407564 (385)\ttotal: 4m 10s\tremaining: 26.6s\n",
      "452:\tlearn: 0.2448338\ttest: 0.3412583\tbest: 0.3407564 (385)\ttotal: 4m 11s\tremaining: 26.1s\n",
      "453:\tlearn: 0.2447022\ttest: 0.3412722\tbest: 0.3407564 (385)\ttotal: 4m 11s\tremaining: 25.5s\n"
     ]
    },
    {
     "name": "stdout",
     "output_type": "stream",
     "text": [
      "454:\tlearn: 0.2445030\ttest: 0.3412651\tbest: 0.3407564 (385)\ttotal: 4m 12s\tremaining: 25s\n",
      "455:\tlearn: 0.2442942\ttest: 0.3412712\tbest: 0.3407564 (385)\ttotal: 4m 12s\tremaining: 24.4s\n",
      "456:\tlearn: 0.2441865\ttest: 0.3412821\tbest: 0.3407564 (385)\ttotal: 4m 13s\tremaining: 23.9s\n",
      "457:\tlearn: 0.2440443\ttest: 0.3413083\tbest: 0.3407564 (385)\ttotal: 4m 14s\tremaining: 23.3s\n",
      "458:\tlearn: 0.2439046\ttest: 0.3412995\tbest: 0.3407564 (385)\ttotal: 4m 14s\tremaining: 22.7s\n",
      "459:\tlearn: 0.2437194\ttest: 0.3412763\tbest: 0.3407564 (385)\ttotal: 4m 15s\tremaining: 22.2s\n",
      "460:\tlearn: 0.2435738\ttest: 0.3412846\tbest: 0.3407564 (385)\ttotal: 4m 15s\tremaining: 21.6s\n",
      "461:\tlearn: 0.2434159\ttest: 0.3412673\tbest: 0.3407564 (385)\ttotal: 4m 16s\tremaining: 21.1s\n",
      "462:\tlearn: 0.2433266\ttest: 0.3412848\tbest: 0.3407564 (385)\ttotal: 4m 16s\tremaining: 20.5s\n",
      "463:\tlearn: 0.2431908\ttest: 0.3412996\tbest: 0.3407564 (385)\ttotal: 4m 17s\tremaining: 20s\n",
      "464:\tlearn: 0.2431379\ttest: 0.3412940\tbest: 0.3407564 (385)\ttotal: 4m 17s\tremaining: 19.4s\n",
      "465:\tlearn: 0.2429935\ttest: 0.3412734\tbest: 0.3407564 (385)\ttotal: 4m 18s\tremaining: 18.9s\n",
      "466:\tlearn: 0.2428110\ttest: 0.3412589\tbest: 0.3407564 (385)\ttotal: 4m 19s\tremaining: 18.3s\n",
      "467:\tlearn: 0.2426622\ttest: 0.3412409\tbest: 0.3407564 (385)\ttotal: 4m 19s\tremaining: 17.7s\n",
      "468:\tlearn: 0.2425024\ttest: 0.3412521\tbest: 0.3407564 (385)\ttotal: 4m 20s\tremaining: 17.2s\n",
      "469:\tlearn: 0.2422046\ttest: 0.3412979\tbest: 0.3407564 (385)\ttotal: 4m 20s\tremaining: 16.6s\n",
      "470:\tlearn: 0.2420189\ttest: 0.3413168\tbest: 0.3407564 (385)\ttotal: 4m 21s\tremaining: 16.1s\n",
      "471:\tlearn: 0.2417888\ttest: 0.3413448\tbest: 0.3407564 (385)\ttotal: 4m 21s\tremaining: 15.5s\n",
      "472:\tlearn: 0.2415573\ttest: 0.3413512\tbest: 0.3407564 (385)\ttotal: 4m 22s\tremaining: 15s\n",
      "473:\tlearn: 0.2414285\ttest: 0.3413895\tbest: 0.3407564 (385)\ttotal: 4m 22s\tremaining: 14.4s\n",
      "474:\tlearn: 0.2413665\ttest: 0.3413654\tbest: 0.3407564 (385)\ttotal: 4m 23s\tremaining: 13.9s\n",
      "475:\tlearn: 0.2412192\ttest: 0.3413818\tbest: 0.3407564 (385)\ttotal: 4m 23s\tremaining: 13.3s\n",
      "476:\tlearn: 0.2409753\ttest: 0.3414197\tbest: 0.3407564 (385)\ttotal: 4m 24s\tremaining: 12.8s\n",
      "477:\tlearn: 0.2407404\ttest: 0.3414436\tbest: 0.3407564 (385)\ttotal: 4m 25s\tremaining: 12.2s\n",
      "478:\tlearn: 0.2405976\ttest: 0.3414448\tbest: 0.3407564 (385)\ttotal: 4m 25s\tremaining: 11.6s\n",
      "479:\tlearn: 0.2404413\ttest: 0.3414498\tbest: 0.3407564 (385)\ttotal: 4m 26s\tremaining: 11.1s\n",
      "480:\tlearn: 0.2403503\ttest: 0.3414516\tbest: 0.3407564 (385)\ttotal: 4m 26s\tremaining: 10.5s\n",
      "481:\tlearn: 0.2402293\ttest: 0.3414876\tbest: 0.3407564 (385)\ttotal: 4m 27s\tremaining: 9.98s\n",
      "482:\tlearn: 0.2401395\ttest: 0.3415098\tbest: 0.3407564 (385)\ttotal: 4m 27s\tremaining: 9.43s\n",
      "483:\tlearn: 0.2400541\ttest: 0.3415044\tbest: 0.3407564 (385)\ttotal: 4m 28s\tremaining: 8.87s\n",
      "484:\tlearn: 0.2399363\ttest: 0.3415202\tbest: 0.3407564 (385)\ttotal: 4m 28s\tremaining: 8.31s\n",
      "485:\tlearn: 0.2398000\ttest: 0.3415201\tbest: 0.3407564 (385)\ttotal: 4m 29s\tremaining: 7.76s\n",
      "486:\tlearn: 0.2397585\ttest: 0.3414974\tbest: 0.3407564 (385)\ttotal: 4m 29s\tremaining: 7.2s\n",
      "487:\tlearn: 0.2395389\ttest: 0.3415040\tbest: 0.3407564 (385)\ttotal: 4m 30s\tremaining: 6.65s\n",
      "488:\tlearn: 0.2394264\ttest: 0.3415073\tbest: 0.3407564 (385)\ttotal: 4m 30s\tremaining: 6.09s\n",
      "489:\tlearn: 0.2392882\ttest: 0.3415100\tbest: 0.3407564 (385)\ttotal: 4m 31s\tremaining: 5.54s\n",
      "490:\tlearn: 0.2391791\ttest: 0.3415368\tbest: 0.3407564 (385)\ttotal: 4m 32s\tremaining: 4.99s\n",
      "491:\tlearn: 0.2390449\ttest: 0.3415310\tbest: 0.3407564 (385)\ttotal: 4m 32s\tremaining: 4.43s\n",
      "492:\tlearn: 0.2389209\ttest: 0.3415302\tbest: 0.3407564 (385)\ttotal: 4m 33s\tremaining: 3.88s\n",
      "493:\tlearn: 0.2387002\ttest: 0.3415582\tbest: 0.3407564 (385)\ttotal: 4m 33s\tremaining: 3.32s\n",
      "494:\tlearn: 0.2386306\ttest: 0.3415581\tbest: 0.3407564 (385)\ttotal: 4m 34s\tremaining: 2.77s\n",
      "495:\tlearn: 0.2385584\ttest: 0.3415539\tbest: 0.3407564 (385)\ttotal: 4m 34s\tremaining: 2.21s\n",
      "496:\tlearn: 0.2383867\ttest: 0.3415396\tbest: 0.3407564 (385)\ttotal: 4m 35s\tremaining: 1.66s\n",
      "497:\tlearn: 0.2382833\ttest: 0.3415396\tbest: 0.3407564 (385)\ttotal: 4m 35s\tremaining: 1.11s\n",
      "498:\tlearn: 0.2381903\ttest: 0.3415646\tbest: 0.3407564 (385)\ttotal: 4m 36s\tremaining: 554ms\n",
      "499:\tlearn: 0.2379562\ttest: 0.3415815\tbest: 0.3407564 (385)\ttotal: 4m 36s\tremaining: 0us\n",
      "\n",
      "bestTest = 0.34075641\n",
      "bestIteration = 385\n",
      "\n",
      "Shrink model to first 386 iterations.\n"
     ]
    },
    {
     "data": {
      "text/plain": [
       "0.34075641917058863"
      ]
     },
     "execution_count": 39,
     "metadata": {},
     "output_type": "execute_result"
    }
   ],
   "source": [
    "cb = CatBoostRegressor()\n",
    "\n",
    "categorical_feature_indices = [0,1,2,5,6,7,8,9]\n",
    "\n",
    "param_cb = {  \"iterations\":[500], \"learning_rate\" : [0.2],\n",
    "         \"leaf_reg\": [1],\"depth\": [12]}\n",
    "                  \n",
    "              \n",
    "              \n",
    "             \n",
    "grid_search = GridSearchCV(cb, n_jobs=-1, param_grid=param_cb, cv = 5, scoring=\"r2\", verbose=5)\n",
    "grid_search.fit(X_train, y_train,cat_features=categorical_feature_indices,  eval_set = (X_test,y_test))\n",
    "cb_pred=grid_search.best_estimator_.predict(X_test)\n",
    "grid_search.best_estimator_\n",
    "rmse_test = MSE(y_test,cb_pred)**(0.5)\n",
    "rmse_test"
   ]
  },
  {
   "cell_type": "code",
   "execution_count": 46,
   "metadata": {},
   "outputs": [
    {
     "data": {
      "text/plain": [
       "0.9072794240363643"
      ]
     },
     "execution_count": 46,
     "metadata": {},
     "output_type": "execute_result"
    }
   ],
   "source": [
    "grid_search.score(X_test,y_test)"
   ]
  },
  {
   "cell_type": "code",
   "execution_count": 47,
   "metadata": {},
   "outputs": [
    {
     "data": {
      "text/plain": [
       "{'depth': 12, 'iterations': 500, 'leaf_reg': 1, 'learning_rate': 0.2}"
      ]
     },
     "execution_count": 47,
     "metadata": {},
     "output_type": "execute_result"
    }
   ],
   "source": [
    "grid_search.best_params_"
   ]
  },
  {
   "cell_type": "code",
   "execution_count": 120,
   "metadata": {},
   "outputs": [
    {
     "data": {
      "text/plain": [
       "1.4060107218905358"
      ]
     },
     "execution_count": 120,
     "metadata": {},
     "output_type": "execute_result"
    }
   ],
   "source": [
    "np.exp(0.34075641917058863)"
   ]
  },
  {
   "cell_type": "markdown",
   "metadata": {},
   "source": [
    "# Box Cox Power Transformation\n",
    "\n",
    "At this stage a box cox power transformation was applied to price column."
   ]
  },
  {
   "cell_type": "code",
   "execution_count": 51,
   "metadata": {},
   "outputs": [],
   "source": [
    "###\n",
    "###       CATBOOST REGRESSOR\n",
    "###\n",
    "###\n",
    "from catboost import CatBoostRegressor\n",
    "df=pd.read_csv(\"clean_data.csv\")\n",
    "\n",
    "\n",
    "df=df.drop('Unnamed: 0',axis=1)\n",
    "df=df.drop('index',axis=1)\n",
    "y4=stats.boxcox(df.price)[0]\n",
    "loga=stats.boxcox(df.price)[1]\n",
    "df = df.iloc[:,5:].copy()\n",
    "\n",
    "\n",
    "X_train, X_test, y_train, y_test = train_test_split(df, y4, test_size = 0.25)\n",
    "categorical_feature_indices = [0,1,2,5,6,7,8,9]\n",
    "\n"
   ]
  },
  {
   "cell_type": "code",
   "execution_count": 53,
   "metadata": {},
   "outputs": [
    {
     "data": {
      "text/plain": [
       "0.046183172711924375"
      ]
     },
     "execution_count": 53,
     "metadata": {},
     "output_type": "execute_result"
    }
   ],
   "source": [
    "loga"
   ]
  },
  {
   "cell_type": "code",
   "execution_count": 74,
   "metadata": {},
   "outputs": [
    {
     "name": "stdout",
     "output_type": "stream",
     "text": [
      "Fitting 5 folds for each of 1 candidates, totalling 5 fits\n"
     ]
    },
    {
     "name": "stderr",
     "output_type": "stream",
     "text": [
      "[Parallel(n_jobs=-1)]: Done   2 out of   5 | elapsed:  9.9min remaining: 14.8min\n",
      "[Parallel(n_jobs=-1)]: Done   5 out of   5 | elapsed: 10.1min finished\n"
     ]
    },
    {
     "name": "stdout",
     "output_type": "stream",
     "text": [
      "0:\tlearn: 8.2092396\ttest: 8.2239524\tbest: 8.2239524 (0)\ttotal: 179ms\tremaining: 54.7s\n",
      "1:\tlearn: 6.5877605\ttest: 6.6004644\tbest: 6.6004644 (1)\ttotal: 603ms\tremaining: 1m 31s\n",
      "2:\tlearn: 5.2982321\ttest: 5.3105262\tbest: 5.3105262 (2)\ttotal: 804ms\tremaining: 1m 21s\n",
      "3:\tlearn: 4.2648998\ttest: 4.2748553\tbest: 4.2748553 (3)\ttotal: 1.26s\tremaining: 1m 35s\n",
      "4:\tlearn: 3.4457551\ttest: 3.4546948\tbest: 3.4546948 (4)\ttotal: 1.68s\tremaining: 1m 41s\n",
      "5:\tlearn: 2.7935007\ttest: 2.8019680\tbest: 2.8019680 (5)\ttotal: 1.81s\tremaining: 1m 30s\n",
      "6:\tlearn: 2.2753074\ttest: 2.2829627\tbest: 2.2829627 (6)\ttotal: 2.21s\tremaining: 1m 34s\n",
      "7:\tlearn: 1.8696177\ttest: 1.8772089\tbest: 1.8772089 (7)\ttotal: 2.48s\tremaining: 1m 32s\n",
      "8:\tlearn: 1.5527042\ttest: 1.5596919\tbest: 1.5596919 (8)\ttotal: 2.89s\tremaining: 1m 35s\n",
      "9:\tlearn: 1.3155433\ttest: 1.3226239\tbest: 1.3226239 (9)\ttotal: 2.95s\tremaining: 1m 27s\n",
      "10:\tlearn: 1.1151853\ttest: 1.1210511\tbest: 1.1210511 (10)\ttotal: 3.36s\tremaining: 1m 30s\n",
      "11:\tlearn: 0.9629959\ttest: 0.9682655\tbest: 0.9682655 (11)\ttotal: 3.8s\tremaining: 1m 33s\n",
      "12:\tlearn: 0.8518846\ttest: 0.8566544\tbest: 0.8566544 (12)\ttotal: 3.98s\tremaining: 1m 29s\n",
      "13:\tlearn: 0.7679837\ttest: 0.7726606\tbest: 0.7726606 (13)\ttotal: 4.41s\tremaining: 1m 32s\n",
      "14:\tlearn: 0.7074857\ttest: 0.7120134\tbest: 0.7120134 (14)\ttotal: 4.84s\tremaining: 1m 34s\n",
      "15:\tlearn: 0.6637317\ttest: 0.6679745\tbest: 0.6679745 (15)\ttotal: 5.22s\tremaining: 1m 34s\n",
      "16:\tlearn: 0.6310948\ttest: 0.6353169\tbest: 0.6353169 (16)\ttotal: 5.6s\tremaining: 1m 35s\n",
      "17:\tlearn: 0.6082587\ttest: 0.6128328\tbest: 0.6128328 (17)\ttotal: 6.02s\tremaining: 1m 36s\n",
      "18:\tlearn: 0.5911753\ttest: 0.5961347\tbest: 0.5961347 (18)\ttotal: 6.44s\tremaining: 1m 37s\n",
      "19:\tlearn: 0.5761064\ttest: 0.5810127\tbest: 0.5810127 (19)\ttotal: 6.82s\tremaining: 1m 37s\n",
      "20:\tlearn: 0.5629744\ttest: 0.5683688\tbest: 0.5683688 (20)\ttotal: 7.26s\tremaining: 1m 38s\n",
      "21:\tlearn: 0.5527767\ttest: 0.5594448\tbest: 0.5594448 (21)\ttotal: 7.65s\tremaining: 1m 39s\n",
      "22:\tlearn: 0.5461393\ttest: 0.5531120\tbest: 0.5531120 (22)\ttotal: 8.13s\tremaining: 1m 40s\n",
      "23:\tlearn: 0.5407054\ttest: 0.5482439\tbest: 0.5482439 (23)\ttotal: 8.57s\tremaining: 1m 41s\n",
      "24:\tlearn: 0.5363378\ttest: 0.5446419\tbest: 0.5446419 (24)\ttotal: 9.01s\tremaining: 1m 41s\n",
      "25:\tlearn: 0.5330056\ttest: 0.5418741\tbest: 0.5418741 (25)\ttotal: 9.51s\tremaining: 1m 42s\n",
      "26:\tlearn: 0.5294559\ttest: 0.5384923\tbest: 0.5384923 (26)\ttotal: 10s\tremaining: 1m 43s\n",
      "27:\tlearn: 0.5270173\ttest: 0.5362473\tbest: 0.5362473 (27)\ttotal: 10.4s\tremaining: 1m 43s\n",
      "28:\tlearn: 0.5235118\ttest: 0.5331874\tbest: 0.5331874 (28)\ttotal: 11s\tremaining: 1m 45s\n",
      "29:\tlearn: 0.5210745\ttest: 0.5310361\tbest: 0.5310361 (29)\ttotal: 11.5s\tremaining: 1m 45s\n",
      "30:\tlearn: 0.5184675\ttest: 0.5289393\tbest: 0.5289393 (30)\ttotal: 12s\tremaining: 1m 46s\n",
      "31:\tlearn: 0.5165162\ttest: 0.5273185\tbest: 0.5273185 (31)\ttotal: 12.5s\tremaining: 1m 47s\n",
      "32:\tlearn: 0.5146196\ttest: 0.5257966\tbest: 0.5257966 (32)\ttotal: 13s\tremaining: 1m 47s\n",
      "33:\tlearn: 0.5121938\ttest: 0.5243244\tbest: 0.5243244 (33)\ttotal: 13.5s\tremaining: 1m 48s\n",
      "34:\tlearn: 0.5107879\ttest: 0.5231470\tbest: 0.5231470 (34)\ttotal: 14s\tremaining: 1m 48s\n",
      "35:\tlearn: 0.5098781\ttest: 0.5223139\tbest: 0.5223139 (35)\ttotal: 14.5s\tremaining: 1m 49s\n",
      "36:\tlearn: 0.5086844\ttest: 0.5214074\tbest: 0.5214074 (36)\ttotal: 15s\tremaining: 1m 49s\n",
      "37:\tlearn: 0.5077322\ttest: 0.5208260\tbest: 0.5208260 (37)\ttotal: 15.5s\tremaining: 1m 49s\n",
      "38:\tlearn: 0.5070560\ttest: 0.5202807\tbest: 0.5202807 (38)\ttotal: 16s\tremaining: 1m 49s\n",
      "39:\tlearn: 0.5055883\ttest: 0.5190264\tbest: 0.5190264 (39)\ttotal: 16.5s\tremaining: 1m 50s\n",
      "40:\tlearn: 0.5047458\ttest: 0.5183837\tbest: 0.5183837 (40)\ttotal: 17s\tremaining: 1m 50s\n",
      "41:\tlearn: 0.5039438\ttest: 0.5177556\tbest: 0.5177556 (41)\ttotal: 17.5s\tremaining: 1m 50s\n",
      "42:\tlearn: 0.5029294\ttest: 0.5169558\tbest: 0.5169558 (42)\ttotal: 18s\tremaining: 1m 50s\n",
      "43:\tlearn: 0.5015949\ttest: 0.5164236\tbest: 0.5164236 (43)\ttotal: 18.5s\tremaining: 1m 50s\n",
      "44:\tlearn: 0.5006990\ttest: 0.5157333\tbest: 0.5157333 (44)\ttotal: 19s\tremaining: 1m 50s\n",
      "45:\tlearn: 0.4997670\ttest: 0.5150969\tbest: 0.5150969 (45)\ttotal: 19.5s\tremaining: 1m 50s\n",
      "46:\tlearn: 0.4989226\ttest: 0.5146348\tbest: 0.5146348 (46)\ttotal: 20s\tremaining: 1m 50s\n",
      "47:\tlearn: 0.4981269\ttest: 0.5141112\tbest: 0.5141112 (47)\ttotal: 20.6s\tremaining: 1m 51s\n",
      "48:\tlearn: 0.4972024\ttest: 0.5138171\tbest: 0.5138171 (48)\ttotal: 21.1s\tremaining: 1m 51s\n",
      "49:\tlearn: 0.4956840\ttest: 0.5129598\tbest: 0.5129598 (49)\ttotal: 21.7s\tremaining: 1m 51s\n",
      "50:\tlearn: 0.4948545\ttest: 0.5124195\tbest: 0.5124195 (50)\ttotal: 22.2s\tremaining: 1m 51s\n",
      "51:\tlearn: 0.4940678\ttest: 0.5117858\tbest: 0.5117858 (51)\ttotal: 22.8s\tremaining: 1m 51s\n",
      "52:\tlearn: 0.4930519\ttest: 0.5109624\tbest: 0.5109624 (52)\ttotal: 23.3s\tremaining: 1m 51s\n",
      "53:\tlearn: 0.4915997\ttest: 0.5100810\tbest: 0.5100810 (53)\ttotal: 23.7s\tremaining: 1m 51s\n",
      "54:\tlearn: 0.4912000\ttest: 0.5097781\tbest: 0.5097781 (54)\ttotal: 24.4s\tremaining: 1m 51s\n",
      "55:\tlearn: 0.4901142\ttest: 0.5091392\tbest: 0.5091392 (55)\ttotal: 24.8s\tremaining: 1m 51s\n",
      "56:\tlearn: 0.4895607\ttest: 0.5088239\tbest: 0.5088239 (56)\ttotal: 25.4s\tremaining: 1m 51s\n",
      "57:\tlearn: 0.4889435\ttest: 0.5084179\tbest: 0.5084179 (57)\ttotal: 25.9s\tremaining: 1m 51s\n",
      "58:\tlearn: 0.4876789\ttest: 0.5073719\tbest: 0.5073719 (58)\ttotal: 26.5s\tremaining: 1m 51s\n",
      "59:\tlearn: 0.4867288\ttest: 0.5068524\tbest: 0.5068524 (59)\ttotal: 27.1s\tremaining: 1m 51s\n",
      "60:\tlearn: 0.4861523\ttest: 0.5065168\tbest: 0.5065168 (60)\ttotal: 27.6s\tremaining: 1m 51s\n",
      "61:\tlearn: 0.4856761\ttest: 0.5061451\tbest: 0.5061451 (61)\ttotal: 28.2s\tremaining: 1m 51s\n",
      "62:\tlearn: 0.4841296\ttest: 0.5056584\tbest: 0.5056584 (62)\ttotal: 28.7s\tremaining: 1m 51s\n",
      "63:\tlearn: 0.4833597\ttest: 0.5052558\tbest: 0.5052558 (63)\ttotal: 29.2s\tremaining: 1m 50s\n",
      "64:\tlearn: 0.4825682\ttest: 0.5047346\tbest: 0.5047346 (64)\ttotal: 29.7s\tremaining: 1m 50s\n",
      "65:\tlearn: 0.4818976\ttest: 0.5044282\tbest: 0.5044282 (65)\ttotal: 30.2s\tremaining: 1m 50s\n",
      "66:\tlearn: 0.4813869\ttest: 0.5041152\tbest: 0.5041152 (66)\ttotal: 30.7s\tremaining: 1m 49s\n",
      "67:\tlearn: 0.4808807\ttest: 0.5038365\tbest: 0.5038365 (67)\ttotal: 31.2s\tremaining: 1m 49s\n",
      "68:\tlearn: 0.4799999\ttest: 0.5032814\tbest: 0.5032814 (68)\ttotal: 31.8s\tremaining: 1m 49s\n",
      "69:\tlearn: 0.4791410\ttest: 0.5028268\tbest: 0.5028268 (69)\ttotal: 32.3s\tremaining: 1m 49s\n",
      "70:\tlearn: 0.4784184\ttest: 0.5026102\tbest: 0.5026102 (70)\ttotal: 32.8s\tremaining: 1m 49s\n",
      "71:\tlearn: 0.4776209\ttest: 0.5020556\tbest: 0.5020556 (71)\ttotal: 33.4s\tremaining: 1m 48s\n",
      "72:\tlearn: 0.4770635\ttest: 0.5018725\tbest: 0.5018725 (72)\ttotal: 33.9s\tremaining: 1m 48s\n",
      "73:\tlearn: 0.4762908\ttest: 0.5015975\tbest: 0.5015975 (73)\ttotal: 34.5s\tremaining: 1m 48s\n",
      "74:\tlearn: 0.4754295\ttest: 0.5013212\tbest: 0.5013212 (74)\ttotal: 35.1s\tremaining: 1m 48s\n",
      "75:\tlearn: 0.4750398\ttest: 0.5011928\tbest: 0.5011928 (75)\ttotal: 35.7s\tremaining: 1m 48s\n",
      "76:\tlearn: 0.4742094\ttest: 0.5007640\tbest: 0.5007640 (76)\ttotal: 36.3s\tremaining: 1m 48s\n",
      "77:\tlearn: 0.4734359\ttest: 0.5004960\tbest: 0.5004960 (77)\ttotal: 36.9s\tremaining: 1m 48s\n",
      "78:\tlearn: 0.4726328\ttest: 0.5002694\tbest: 0.5002694 (78)\ttotal: 37.4s\tremaining: 1m 47s\n",
      "79:\tlearn: 0.4717482\ttest: 0.4997181\tbest: 0.4997181 (79)\ttotal: 38s\tremaining: 1m 47s\n",
      "80:\tlearn: 0.4706047\ttest: 0.4994862\tbest: 0.4994862 (80)\ttotal: 38.5s\tremaining: 1m 47s\n",
      "81:\tlearn: 0.4701651\ttest: 0.4994073\tbest: 0.4994073 (81)\ttotal: 39s\tremaining: 1m 47s\n",
      "82:\tlearn: 0.4690787\ttest: 0.4993231\tbest: 0.4993231 (82)\ttotal: 39.7s\tremaining: 1m 47s\n",
      "83:\tlearn: 0.4684728\ttest: 0.4993206\tbest: 0.4993206 (83)\ttotal: 40.3s\tremaining: 1m 46s\n",
      "84:\tlearn: 0.4679251\ttest: 0.4991225\tbest: 0.4991225 (84)\ttotal: 40.8s\tremaining: 1m 46s\n",
      "85:\tlearn: 0.4673273\ttest: 0.4990213\tbest: 0.4990213 (85)\ttotal: 41.4s\tremaining: 1m 46s\n",
      "86:\tlearn: 0.4668531\ttest: 0.4988584\tbest: 0.4988584 (86)\ttotal: 42s\tremaining: 1m 46s\n",
      "87:\tlearn: 0.4660649\ttest: 0.4984274\tbest: 0.4984274 (87)\ttotal: 42.5s\tremaining: 1m 45s\n",
      "88:\tlearn: 0.4655511\ttest: 0.4981845\tbest: 0.4981845 (88)\ttotal: 43s\tremaining: 1m 45s\n",
      "89:\tlearn: 0.4649931\ttest: 0.4980668\tbest: 0.4980668 (89)\ttotal: 43.5s\tremaining: 1m 44s\n",
      "90:\tlearn: 0.4645601\ttest: 0.4979646\tbest: 0.4979646 (90)\ttotal: 44.1s\tremaining: 1m 44s\n",
      "91:\tlearn: 0.4638303\ttest: 0.4978470\tbest: 0.4978470 (91)\ttotal: 44.6s\tremaining: 1m 44s\n",
      "92:\tlearn: 0.4634737\ttest: 0.4977519\tbest: 0.4977519 (92)\ttotal: 45s\tremaining: 1m 43s\n"
     ]
    },
    {
     "name": "stdout",
     "output_type": "stream",
     "text": [
      "93:\tlearn: 0.4631889\ttest: 0.4976355\tbest: 0.4976355 (93)\ttotal: 45.6s\tremaining: 1m 43s\n",
      "94:\tlearn: 0.4627345\ttest: 0.4975079\tbest: 0.4975079 (94)\ttotal: 46.1s\tremaining: 1m 42s\n",
      "95:\tlearn: 0.4621027\ttest: 0.4973594\tbest: 0.4973594 (95)\ttotal: 46.6s\tremaining: 1m 42s\n",
      "96:\tlearn: 0.4613042\ttest: 0.4970836\tbest: 0.4970836 (96)\ttotal: 47.1s\tremaining: 1m 41s\n",
      "97:\tlearn: 0.4607383\ttest: 0.4969902\tbest: 0.4969902 (97)\ttotal: 47.6s\tremaining: 1m 41s\n",
      "98:\tlearn: 0.4603175\ttest: 0.4968732\tbest: 0.4968732 (98)\ttotal: 48.1s\tremaining: 1m 41s\n",
      "99:\tlearn: 0.4600216\ttest: 0.4968060\tbest: 0.4968060 (99)\ttotal: 48.6s\tremaining: 1m 40s\n",
      "100:\tlearn: 0.4596810\ttest: 0.4967126\tbest: 0.4967126 (100)\ttotal: 49.1s\tremaining: 1m 40s\n",
      "101:\tlearn: 0.4594099\ttest: 0.4966810\tbest: 0.4966810 (101)\ttotal: 49.6s\tremaining: 1m 39s\n",
      "102:\tlearn: 0.4591089\ttest: 0.4966456\tbest: 0.4966456 (102)\ttotal: 50.2s\tremaining: 1m 39s\n",
      "103:\tlearn: 0.4585894\ttest: 0.4964441\tbest: 0.4964441 (103)\ttotal: 50.7s\tremaining: 1m 38s\n",
      "104:\tlearn: 0.4580184\ttest: 0.4963867\tbest: 0.4963867 (104)\ttotal: 51.3s\tremaining: 1m 38s\n",
      "105:\tlearn: 0.4574152\ttest: 0.4963742\tbest: 0.4963742 (105)\ttotal: 51.8s\tremaining: 1m 38s\n",
      "106:\tlearn: 0.4568956\ttest: 0.4960807\tbest: 0.4960807 (106)\ttotal: 52.3s\tremaining: 1m 37s\n",
      "107:\tlearn: 0.4561712\ttest: 0.4959342\tbest: 0.4959342 (107)\ttotal: 52.9s\tremaining: 1m 37s\n",
      "108:\tlearn: 0.4560654\ttest: 0.4958625\tbest: 0.4958625 (108)\ttotal: 53.4s\tremaining: 1m 37s\n",
      "109:\tlearn: 0.4556525\ttest: 0.4956582\tbest: 0.4956582 (109)\ttotal: 53.9s\tremaining: 1m 36s\n",
      "110:\tlearn: 0.4551649\ttest: 0.4954592\tbest: 0.4954592 (110)\ttotal: 54.5s\tremaining: 1m 36s\n",
      "111:\tlearn: 0.4546971\ttest: 0.4953991\tbest: 0.4953991 (111)\ttotal: 55.1s\tremaining: 1m 35s\n",
      "112:\tlearn: 0.4543589\ttest: 0.4953023\tbest: 0.4953023 (112)\ttotal: 55.6s\tremaining: 1m 35s\n",
      "113:\tlearn: 0.4539425\ttest: 0.4951167\tbest: 0.4951167 (113)\ttotal: 56.1s\tremaining: 1m 35s\n",
      "114:\tlearn: 0.4532065\ttest: 0.4950094\tbest: 0.4950094 (114)\ttotal: 56.7s\tremaining: 1m 34s\n",
      "115:\tlearn: 0.4529555\ttest: 0.4948999\tbest: 0.4948999 (115)\ttotal: 57.2s\tremaining: 1m 34s\n",
      "116:\tlearn: 0.4525780\ttest: 0.4948909\tbest: 0.4948909 (116)\ttotal: 57.7s\tremaining: 1m 33s\n",
      "117:\tlearn: 0.4521861\ttest: 0.4947569\tbest: 0.4947569 (117)\ttotal: 58.3s\tremaining: 1m 33s\n",
      "118:\tlearn: 0.4516336\ttest: 0.4945058\tbest: 0.4945058 (118)\ttotal: 58.8s\tremaining: 1m 32s\n",
      "119:\tlearn: 0.4512069\ttest: 0.4943897\tbest: 0.4943897 (119)\ttotal: 59.3s\tremaining: 1m 32s\n",
      "120:\tlearn: 0.4509946\ttest: 0.4942965\tbest: 0.4942965 (120)\ttotal: 59.9s\tremaining: 1m 32s\n",
      "121:\tlearn: 0.4505285\ttest: 0.4942000\tbest: 0.4942000 (121)\ttotal: 1m\tremaining: 1m 31s\n",
      "122:\tlearn: 0.4501202\ttest: 0.4940182\tbest: 0.4940182 (122)\ttotal: 1m\tremaining: 1m 31s\n",
      "123:\tlearn: 0.4498091\ttest: 0.4939995\tbest: 0.4939995 (123)\ttotal: 1m 1s\tremaining: 1m 30s\n",
      "124:\tlearn: 0.4494090\ttest: 0.4938851\tbest: 0.4938851 (124)\ttotal: 1m 1s\tremaining: 1m 30s\n",
      "125:\tlearn: 0.4491561\ttest: 0.4938058\tbest: 0.4938058 (125)\ttotal: 1m 2s\tremaining: 1m 29s\n",
      "126:\tlearn: 0.4489790\ttest: 0.4937617\tbest: 0.4937617 (126)\ttotal: 1m 3s\tremaining: 1m 29s\n",
      "127:\tlearn: 0.4486788\ttest: 0.4937134\tbest: 0.4937134 (127)\ttotal: 1m 3s\tremaining: 1m 29s\n",
      "128:\tlearn: 0.4482950\ttest: 0.4936460\tbest: 0.4936460 (128)\ttotal: 1m 4s\tremaining: 1m 28s\n",
      "129:\tlearn: 0.4475614\ttest: 0.4936320\tbest: 0.4936320 (129)\ttotal: 1m 5s\tremaining: 1m 28s\n",
      "130:\tlearn: 0.4471394\ttest: 0.4935441\tbest: 0.4935441 (130)\ttotal: 1m 5s\tremaining: 1m 28s\n",
      "131:\tlearn: 0.4465123\ttest: 0.4935641\tbest: 0.4935441 (130)\ttotal: 1m 6s\tremaining: 1m 27s\n",
      "132:\tlearn: 0.4458336\ttest: 0.4934542\tbest: 0.4934542 (132)\ttotal: 1m 6s\tremaining: 1m 27s\n",
      "133:\tlearn: 0.4450316\ttest: 0.4932152\tbest: 0.4932152 (133)\ttotal: 1m 7s\tremaining: 1m 26s\n",
      "134:\tlearn: 0.4446568\ttest: 0.4931286\tbest: 0.4931286 (134)\ttotal: 1m 7s\tremaining: 1m 26s\n",
      "135:\tlearn: 0.4442962\ttest: 0.4929378\tbest: 0.4929378 (135)\ttotal: 1m 8s\tremaining: 1m 26s\n",
      "136:\tlearn: 0.4436186\ttest: 0.4928836\tbest: 0.4928836 (136)\ttotal: 1m 9s\tremaining: 1m 25s\n",
      "137:\tlearn: 0.4432524\ttest: 0.4928842\tbest: 0.4928836 (136)\ttotal: 1m 9s\tremaining: 1m 25s\n",
      "138:\tlearn: 0.4426157\ttest: 0.4927547\tbest: 0.4927547 (138)\ttotal: 1m 10s\tremaining: 1m 24s\n",
      "139:\tlearn: 0.4421330\ttest: 0.4925498\tbest: 0.4925498 (139)\ttotal: 1m 10s\tremaining: 1m 24s\n",
      "140:\tlearn: 0.4417241\ttest: 0.4924227\tbest: 0.4924227 (140)\ttotal: 1m 11s\tremaining: 1m 23s\n",
      "141:\tlearn: 0.4413658\ttest: 0.4923586\tbest: 0.4923586 (141)\ttotal: 1m 11s\tremaining: 1m 23s\n",
      "142:\tlearn: 0.4405670\ttest: 0.4922461\tbest: 0.4922461 (142)\ttotal: 1m 12s\tremaining: 1m 22s\n",
      "143:\tlearn: 0.4398014\ttest: 0.4921606\tbest: 0.4921606 (143)\ttotal: 1m 12s\tremaining: 1m 22s\n",
      "144:\tlearn: 0.4394089\ttest: 0.4920501\tbest: 0.4920501 (144)\ttotal: 1m 13s\tremaining: 1m 21s\n",
      "145:\tlearn: 0.4391094\ttest: 0.4920377\tbest: 0.4920377 (145)\ttotal: 1m 13s\tremaining: 1m 21s\n",
      "146:\tlearn: 0.4387244\ttest: 0.4919927\tbest: 0.4919927 (146)\ttotal: 1m 14s\tremaining: 1m 20s\n",
      "147:\tlearn: 0.4385208\ttest: 0.4919420\tbest: 0.4919420 (147)\ttotal: 1m 14s\tremaining: 1m 20s\n",
      "148:\tlearn: 0.4377466\ttest: 0.4919480\tbest: 0.4919420 (147)\ttotal: 1m 15s\tremaining: 1m 19s\n",
      "149:\tlearn: 0.4370028\ttest: 0.4918687\tbest: 0.4918687 (149)\ttotal: 1m 15s\tremaining: 1m 19s\n",
      "150:\tlearn: 0.4367330\ttest: 0.4918085\tbest: 0.4918085 (150)\ttotal: 1m 16s\tremaining: 1m 18s\n",
      "151:\tlearn: 0.4365086\ttest: 0.4917342\tbest: 0.4917342 (151)\ttotal: 1m 16s\tremaining: 1m 18s\n",
      "152:\tlearn: 0.4358829\ttest: 0.4916210\tbest: 0.4916210 (152)\ttotal: 1m 17s\tremaining: 1m 17s\n",
      "153:\tlearn: 0.4355770\ttest: 0.4915649\tbest: 0.4915649 (153)\ttotal: 1m 17s\tremaining: 1m 17s\n",
      "154:\tlearn: 0.4351719\ttest: 0.4914960\tbest: 0.4914960 (154)\ttotal: 1m 18s\tremaining: 1m 16s\n",
      "155:\tlearn: 0.4348389\ttest: 0.4914654\tbest: 0.4914654 (155)\ttotal: 1m 18s\tremaining: 1m 16s\n",
      "156:\tlearn: 0.4344543\ttest: 0.4915051\tbest: 0.4914654 (155)\ttotal: 1m 19s\tremaining: 1m 15s\n",
      "157:\tlearn: 0.4341150\ttest: 0.4914687\tbest: 0.4914654 (155)\ttotal: 1m 19s\tremaining: 1m 15s\n",
      "158:\tlearn: 0.4333099\ttest: 0.4914611\tbest: 0.4914611 (158)\ttotal: 1m 20s\tremaining: 1m 14s\n",
      "159:\tlearn: 0.4327384\ttest: 0.4914248\tbest: 0.4914248 (159)\ttotal: 1m 21s\tremaining: 1m 14s\n",
      "160:\tlearn: 0.4325484\ttest: 0.4914035\tbest: 0.4914035 (160)\ttotal: 1m 21s\tremaining: 1m 13s\n",
      "161:\tlearn: 0.4321275\ttest: 0.4913575\tbest: 0.4913575 (161)\ttotal: 1m 22s\tremaining: 1m 13s\n",
      "162:\tlearn: 0.4317176\ttest: 0.4912655\tbest: 0.4912655 (162)\ttotal: 1m 22s\tremaining: 1m 12s\n",
      "163:\tlearn: 0.4315777\ttest: 0.4912346\tbest: 0.4912346 (163)\ttotal: 1m 23s\tremaining: 1m 12s\n",
      "164:\tlearn: 0.4313790\ttest: 0.4912029\tbest: 0.4912029 (164)\ttotal: 1m 23s\tremaining: 1m 12s\n",
      "165:\tlearn: 0.4308458\ttest: 0.4911841\tbest: 0.4911841 (165)\ttotal: 1m 24s\tremaining: 1m 11s\n",
      "166:\tlearn: 0.4303793\ttest: 0.4910712\tbest: 0.4910712 (166)\ttotal: 1m 24s\tremaining: 1m 11s\n",
      "167:\tlearn: 0.4299337\ttest: 0.4910821\tbest: 0.4910712 (166)\ttotal: 1m 25s\tremaining: 1m 10s\n",
      "168:\tlearn: 0.4297404\ttest: 0.4910255\tbest: 0.4910255 (168)\ttotal: 1m 25s\tremaining: 1m 10s\n",
      "169:\tlearn: 0.4293986\ttest: 0.4909841\tbest: 0.4909841 (169)\ttotal: 1m 26s\tremaining: 1m 9s\n",
      "170:\tlearn: 0.4290921\ttest: 0.4908503\tbest: 0.4908503 (170)\ttotal: 1m 27s\tremaining: 1m 9s\n",
      "171:\tlearn: 0.4285498\ttest: 0.4908185\tbest: 0.4908185 (171)\ttotal: 1m 27s\tremaining: 1m 8s\n",
      "172:\tlearn: 0.4282326\ttest: 0.4907917\tbest: 0.4907917 (172)\ttotal: 1m 28s\tremaining: 1m 8s\n",
      "173:\tlearn: 0.4278579\ttest: 0.4907297\tbest: 0.4907297 (173)\ttotal: 1m 28s\tremaining: 1m 7s\n",
      "174:\tlearn: 0.4273589\ttest: 0.4907429\tbest: 0.4907297 (173)\ttotal: 1m 29s\tremaining: 1m 7s\n",
      "175:\tlearn: 0.4271276\ttest: 0.4907631\tbest: 0.4907297 (173)\ttotal: 1m 29s\tremaining: 1m 6s\n",
      "176:\tlearn: 0.4269777\ttest: 0.4907258\tbest: 0.4907258 (176)\ttotal: 1m 30s\tremaining: 1m 6s\n",
      "177:\tlearn: 0.4267034\ttest: 0.4907108\tbest: 0.4907108 (177)\ttotal: 1m 30s\tremaining: 1m 5s\n",
      "178:\tlearn: 0.4263685\ttest: 0.4905974\tbest: 0.4905974 (178)\ttotal: 1m 31s\tremaining: 1m 5s\n",
      "179:\tlearn: 0.4260659\ttest: 0.4905345\tbest: 0.4905345 (179)\ttotal: 1m 31s\tremaining: 1m 4s\n",
      "180:\tlearn: 0.4255098\ttest: 0.4905013\tbest: 0.4905013 (180)\ttotal: 1m 32s\tremaining: 1m 4s\n",
      "181:\tlearn: 0.4252089\ttest: 0.4904669\tbest: 0.4904669 (181)\ttotal: 1m 33s\tremaining: 1m 3s\n",
      "182:\tlearn: 0.4247324\ttest: 0.4904718\tbest: 0.4904669 (181)\ttotal: 1m 33s\tremaining: 1m 3s\n"
     ]
    },
    {
     "name": "stdout",
     "output_type": "stream",
     "text": [
      "183:\tlearn: 0.4245920\ttest: 0.4904871\tbest: 0.4904669 (181)\ttotal: 1m 34s\tremaining: 1m 3s\n",
      "184:\tlearn: 0.4242107\ttest: 0.4905300\tbest: 0.4904669 (181)\ttotal: 1m 34s\tremaining: 1m 2s\n",
      "185:\tlearn: 0.4237011\ttest: 0.4905125\tbest: 0.4904669 (181)\ttotal: 1m 35s\tremaining: 1m 2s\n",
      "186:\tlearn: 0.4233337\ttest: 0.4905483\tbest: 0.4904669 (181)\ttotal: 1m 35s\tremaining: 1m 1s\n",
      "187:\tlearn: 0.4231184\ttest: 0.4904976\tbest: 0.4904669 (181)\ttotal: 1m 36s\tremaining: 1m 1s\n",
      "188:\tlearn: 0.4227348\ttest: 0.4905300\tbest: 0.4904669 (181)\ttotal: 1m 37s\tremaining: 1m\n",
      "189:\tlearn: 0.4223557\ttest: 0.4904553\tbest: 0.4904553 (189)\ttotal: 1m 37s\tremaining: 1m\n",
      "190:\tlearn: 0.4218853\ttest: 0.4904278\tbest: 0.4904278 (190)\ttotal: 1m 38s\tremaining: 59.6s\n",
      "191:\tlearn: 0.4216682\ttest: 0.4903990\tbest: 0.4903990 (191)\ttotal: 1m 38s\tremaining: 59.1s\n",
      "192:\tlearn: 0.4213992\ttest: 0.4903874\tbest: 0.4903874 (192)\ttotal: 1m 39s\tremaining: 58.6s\n",
      "193:\tlearn: 0.4211869\ttest: 0.4903466\tbest: 0.4903466 (193)\ttotal: 1m 39s\tremaining: 58.2s\n",
      "194:\tlearn: 0.4208348\ttest: 0.4901627\tbest: 0.4901627 (194)\ttotal: 1m 40s\tremaining: 57.7s\n",
      "195:\tlearn: 0.4206503\ttest: 0.4900817\tbest: 0.4900817 (195)\ttotal: 1m 40s\tremaining: 57.1s\n",
      "196:\tlearn: 0.4203718\ttest: 0.4900123\tbest: 0.4900123 (196)\ttotal: 1m 41s\tremaining: 56.6s\n",
      "197:\tlearn: 0.4202503\ttest: 0.4899964\tbest: 0.4899964 (197)\ttotal: 1m 41s\tremaining: 56.1s\n",
      "198:\tlearn: 0.4200028\ttest: 0.4899625\tbest: 0.4899625 (198)\ttotal: 1m 42s\tremaining: 55.6s\n",
      "199:\tlearn: 0.4198185\ttest: 0.4899411\tbest: 0.4899411 (199)\ttotal: 1m 43s\tremaining: 55.1s\n",
      "200:\tlearn: 0.4193466\ttest: 0.4899034\tbest: 0.4899034 (200)\ttotal: 1m 43s\tremaining: 54.6s\n",
      "201:\tlearn: 0.4189504\ttest: 0.4898869\tbest: 0.4898869 (201)\ttotal: 1m 44s\tremaining: 54.1s\n",
      "202:\tlearn: 0.4183571\ttest: 0.4898238\tbest: 0.4898238 (202)\ttotal: 1m 44s\tremaining: 53.6s\n",
      "203:\tlearn: 0.4180505\ttest: 0.4898595\tbest: 0.4898238 (202)\ttotal: 1m 45s\tremaining: 53.1s\n",
      "204:\tlearn: 0.4176696\ttest: 0.4898371\tbest: 0.4898238 (202)\ttotal: 1m 45s\tremaining: 52.6s\n",
      "205:\tlearn: 0.4172389\ttest: 0.4898654\tbest: 0.4898238 (202)\ttotal: 1m 46s\tremaining: 52.1s\n",
      "206:\tlearn: 0.4171546\ttest: 0.4898512\tbest: 0.4898238 (202)\ttotal: 1m 46s\tremaining: 51.6s\n",
      "207:\tlearn: 0.4167064\ttest: 0.4898129\tbest: 0.4898129 (207)\ttotal: 1m 47s\tremaining: 51.2s\n",
      "208:\tlearn: 0.4166197\ttest: 0.4898075\tbest: 0.4898075 (208)\ttotal: 1m 48s\tremaining: 50.7s\n",
      "209:\tlearn: 0.4164787\ttest: 0.4898258\tbest: 0.4898075 (208)\ttotal: 1m 48s\tremaining: 50.2s\n",
      "210:\tlearn: 0.4161103\ttest: 0.4898329\tbest: 0.4898075 (208)\ttotal: 1m 49s\tremaining: 49.7s\n",
      "211:\tlearn: 0.4158505\ttest: 0.4898763\tbest: 0.4898075 (208)\ttotal: 1m 49s\tremaining: 49.2s\n",
      "212:\tlearn: 0.4155136\ttest: 0.4898487\tbest: 0.4898075 (208)\ttotal: 1m 50s\tremaining: 48.7s\n",
      "213:\tlearn: 0.4152695\ttest: 0.4897722\tbest: 0.4897722 (213)\ttotal: 1m 50s\tremaining: 48.2s\n",
      "214:\tlearn: 0.4150388\ttest: 0.4897559\tbest: 0.4897559 (214)\ttotal: 1m 51s\tremaining: 47.7s\n",
      "215:\tlearn: 0.4146338\ttest: 0.4897837\tbest: 0.4897559 (214)\ttotal: 1m 51s\tremaining: 47.2s\n",
      "216:\tlearn: 0.4141729\ttest: 0.4897606\tbest: 0.4897559 (214)\ttotal: 1m 52s\tremaining: 46.7s\n",
      "217:\tlearn: 0.4137629\ttest: 0.4897215\tbest: 0.4897215 (217)\ttotal: 1m 53s\tremaining: 46.2s\n",
      "218:\tlearn: 0.4132791\ttest: 0.4897254\tbest: 0.4897215 (217)\ttotal: 1m 53s\tremaining: 45.7s\n",
      "219:\tlearn: 0.4128582\ttest: 0.4896312\tbest: 0.4896312 (219)\ttotal: 1m 54s\tremaining: 45.1s\n",
      "220:\tlearn: 0.4127460\ttest: 0.4895884\tbest: 0.4895884 (220)\ttotal: 1m 54s\tremaining: 44.6s\n",
      "221:\tlearn: 0.4125434\ttest: 0.4895516\tbest: 0.4895516 (221)\ttotal: 1m 55s\tremaining: 44.1s\n",
      "222:\tlearn: 0.4123225\ttest: 0.4894338\tbest: 0.4894338 (222)\ttotal: 1m 55s\tremaining: 43.6s\n",
      "223:\tlearn: 0.4120179\ttest: 0.4894433\tbest: 0.4894338 (222)\ttotal: 1m 56s\tremaining: 43.1s\n",
      "224:\tlearn: 0.4116912\ttest: 0.4894475\tbest: 0.4894338 (222)\ttotal: 1m 56s\tremaining: 42.6s\n",
      "225:\tlearn: 0.4113409\ttest: 0.4894685\tbest: 0.4894338 (222)\ttotal: 1m 57s\tremaining: 42.1s\n",
      "226:\tlearn: 0.4110657\ttest: 0.4894403\tbest: 0.4894338 (222)\ttotal: 1m 57s\tremaining: 41.6s\n",
      "227:\tlearn: 0.4107219\ttest: 0.4894164\tbest: 0.4894164 (227)\ttotal: 1m 58s\tremaining: 41s\n",
      "228:\tlearn: 0.4105979\ttest: 0.4894063\tbest: 0.4894063 (228)\ttotal: 1m 58s\tremaining: 40.5s\n",
      "229:\tlearn: 0.4102591\ttest: 0.4893590\tbest: 0.4893590 (229)\ttotal: 1m 59s\tremaining: 40s\n",
      "230:\tlearn: 0.4097866\ttest: 0.4893466\tbest: 0.4893466 (230)\ttotal: 1m 59s\tremaining: 39.4s\n",
      "231:\tlearn: 0.4092385\ttest: 0.4893379\tbest: 0.4893379 (231)\ttotal: 2m\tremaining: 38.9s\n",
      "232:\tlearn: 0.4090495\ttest: 0.4892801\tbest: 0.4892801 (232)\ttotal: 2m\tremaining: 38.4s\n",
      "233:\tlearn: 0.4085887\ttest: 0.4892745\tbest: 0.4892745 (233)\ttotal: 2m 1s\tremaining: 37.9s\n",
      "234:\tlearn: 0.4084825\ttest: 0.4892233\tbest: 0.4892233 (234)\ttotal: 2m 2s\tremaining: 37.4s\n",
      "235:\tlearn: 0.4077598\ttest: 0.4891969\tbest: 0.4891969 (235)\ttotal: 2m 2s\tremaining: 36.9s\n",
      "236:\tlearn: 0.4072915\ttest: 0.4892249\tbest: 0.4891969 (235)\ttotal: 2m 3s\tremaining: 36.4s\n",
      "237:\tlearn: 0.4069698\ttest: 0.4891674\tbest: 0.4891674 (237)\ttotal: 2m 3s\tremaining: 35.9s\n",
      "238:\tlearn: 0.4067367\ttest: 0.4891752\tbest: 0.4891674 (237)\ttotal: 2m 4s\tremaining: 35.3s\n",
      "239:\tlearn: 0.4064774\ttest: 0.4892029\tbest: 0.4891674 (237)\ttotal: 2m 4s\tremaining: 34.8s\n",
      "240:\tlearn: 0.4059284\ttest: 0.4892041\tbest: 0.4891674 (237)\ttotal: 2m 5s\tremaining: 34.3s\n",
      "241:\tlearn: 0.4057867\ttest: 0.4891773\tbest: 0.4891674 (237)\ttotal: 2m 5s\tremaining: 33.8s\n",
      "242:\tlearn: 0.4055956\ttest: 0.4891713\tbest: 0.4891674 (237)\ttotal: 2m 6s\tremaining: 33.3s\n",
      "243:\tlearn: 0.4053205\ttest: 0.4891766\tbest: 0.4891674 (237)\ttotal: 2m 7s\tremaining: 32.8s\n",
      "244:\tlearn: 0.4050869\ttest: 0.4891869\tbest: 0.4891674 (237)\ttotal: 2m 7s\tremaining: 32.3s\n",
      "245:\tlearn: 0.4048953\ttest: 0.4892050\tbest: 0.4891674 (237)\ttotal: 2m 8s\tremaining: 31.8s\n",
      "246:\tlearn: 0.4044416\ttest: 0.4892152\tbest: 0.4891674 (237)\ttotal: 2m 8s\tremaining: 31.3s\n",
      "247:\tlearn: 0.4041114\ttest: 0.4891966\tbest: 0.4891674 (237)\ttotal: 2m 9s\tremaining: 30.8s\n",
      "248:\tlearn: 0.4039312\ttest: 0.4892250\tbest: 0.4891674 (237)\ttotal: 2m 9s\tremaining: 30.2s\n",
      "249:\tlearn: 0.4036714\ttest: 0.4891989\tbest: 0.4891674 (237)\ttotal: 2m 10s\tremaining: 29.7s\n",
      "250:\tlearn: 0.4034287\ttest: 0.4892275\tbest: 0.4891674 (237)\ttotal: 2m 10s\tremaining: 29.2s\n",
      "251:\tlearn: 0.4030313\ttest: 0.4892517\tbest: 0.4891674 (237)\ttotal: 2m 11s\tremaining: 28.7s\n",
      "252:\tlearn: 0.4027277\ttest: 0.4892097\tbest: 0.4891674 (237)\ttotal: 2m 11s\tremaining: 28.1s\n",
      "253:\tlearn: 0.4023582\ttest: 0.4891407\tbest: 0.4891407 (253)\ttotal: 2m 12s\tremaining: 27.6s\n",
      "254:\tlearn: 0.4021585\ttest: 0.4891248\tbest: 0.4891248 (254)\ttotal: 2m 12s\tremaining: 27.1s\n",
      "255:\tlearn: 0.4019486\ttest: 0.4891223\tbest: 0.4891223 (255)\ttotal: 2m 13s\tremaining: 26.6s\n",
      "256:\tlearn: 0.4017347\ttest: 0.4890921\tbest: 0.4890921 (256)\ttotal: 2m 13s\tremaining: 26.1s\n",
      "257:\tlearn: 0.4015369\ttest: 0.4890558\tbest: 0.4890558 (257)\ttotal: 2m 14s\tremaining: 25.6s\n",
      "258:\tlearn: 0.4012168\ttest: 0.4890880\tbest: 0.4890558 (257)\ttotal: 2m 15s\tremaining: 25s\n",
      "259:\tlearn: 0.4007252\ttest: 0.4889994\tbest: 0.4889994 (259)\ttotal: 2m 15s\tremaining: 24.5s\n",
      "260:\tlearn: 0.4004806\ttest: 0.4890497\tbest: 0.4889994 (259)\ttotal: 2m 16s\tremaining: 24s\n",
      "261:\tlearn: 0.4001289\ttest: 0.4890485\tbest: 0.4889994 (259)\ttotal: 2m 16s\tremaining: 23.5s\n",
      "262:\tlearn: 0.3995012\ttest: 0.4890390\tbest: 0.4889994 (259)\ttotal: 2m 17s\tremaining: 23s\n",
      "263:\tlearn: 0.3990774\ttest: 0.4891197\tbest: 0.4889994 (259)\ttotal: 2m 17s\tremaining: 22.4s\n",
      "264:\tlearn: 0.3989312\ttest: 0.4891140\tbest: 0.4889994 (259)\ttotal: 2m 18s\tremaining: 21.9s\n",
      "265:\tlearn: 0.3986540\ttest: 0.4891394\tbest: 0.4889994 (259)\ttotal: 2m 18s\tremaining: 21.4s\n",
      "266:\tlearn: 0.3982505\ttest: 0.4891428\tbest: 0.4889994 (259)\ttotal: 2m 19s\tremaining: 20.9s\n",
      "267:\tlearn: 0.3980193\ttest: 0.4891584\tbest: 0.4889994 (259)\ttotal: 2m 19s\tremaining: 20.4s\n",
      "268:\tlearn: 0.3976306\ttest: 0.4891855\tbest: 0.4889994 (259)\ttotal: 2m 20s\tremaining: 19.8s\n",
      "269:\tlearn: 0.3973562\ttest: 0.4892256\tbest: 0.4889994 (259)\ttotal: 2m 20s\tremaining: 19.3s\n",
      "270:\tlearn: 0.3970275\ttest: 0.4892094\tbest: 0.4889994 (259)\ttotal: 2m 21s\tremaining: 18.8s\n",
      "271:\tlearn: 0.3968264\ttest: 0.4892371\tbest: 0.4889994 (259)\ttotal: 2m 22s\tremaining: 18.3s\n",
      "272:\tlearn: 0.3965537\ttest: 0.4891928\tbest: 0.4889994 (259)\ttotal: 2m 22s\tremaining: 17.8s\n",
      "273:\tlearn: 0.3963705\ttest: 0.4891776\tbest: 0.4889994 (259)\ttotal: 2m 23s\tremaining: 17.2s\n"
     ]
    },
    {
     "name": "stdout",
     "output_type": "stream",
     "text": [
      "274:\tlearn: 0.3958834\ttest: 0.4892085\tbest: 0.4889994 (259)\ttotal: 2m 23s\tremaining: 16.7s\n",
      "275:\tlearn: 0.3957475\ttest: 0.4892083\tbest: 0.4889994 (259)\ttotal: 2m 24s\tremaining: 16.2s\n",
      "276:\tlearn: 0.3953463\ttest: 0.4892321\tbest: 0.4889994 (259)\ttotal: 2m 24s\tremaining: 15.7s\n",
      "277:\tlearn: 0.3948816\ttest: 0.4891731\tbest: 0.4889994 (259)\ttotal: 2m 25s\tremaining: 15.2s\n",
      "278:\tlearn: 0.3943699\ttest: 0.4891990\tbest: 0.4889994 (259)\ttotal: 2m 25s\tremaining: 14.6s\n",
      "279:\tlearn: 0.3937269\ttest: 0.4892516\tbest: 0.4889994 (259)\ttotal: 2m 26s\tremaining: 14.1s\n",
      "280:\tlearn: 0.3931614\ttest: 0.4891827\tbest: 0.4889994 (259)\ttotal: 2m 26s\tremaining: 13.6s\n",
      "281:\tlearn: 0.3929897\ttest: 0.4892031\tbest: 0.4889994 (259)\ttotal: 2m 27s\tremaining: 13.1s\n",
      "282:\tlearn: 0.3926000\ttest: 0.4890586\tbest: 0.4889994 (259)\ttotal: 2m 27s\tremaining: 12.5s\n",
      "283:\tlearn: 0.3924222\ttest: 0.4890622\tbest: 0.4889994 (259)\ttotal: 2m 28s\tremaining: 12s\n",
      "284:\tlearn: 0.3920045\ttest: 0.4890794\tbest: 0.4889994 (259)\ttotal: 2m 28s\tremaining: 11.5s\n",
      "285:\tlearn: 0.3914337\ttest: 0.4891707\tbest: 0.4889994 (259)\ttotal: 2m 29s\tremaining: 11s\n",
      "286:\tlearn: 0.3912329\ttest: 0.4891610\tbest: 0.4889994 (259)\ttotal: 2m 30s\tremaining: 10.5s\n",
      "287:\tlearn: 0.3910996\ttest: 0.4891886\tbest: 0.4889994 (259)\ttotal: 2m 30s\tremaining: 9.93s\n",
      "288:\tlearn: 0.3909590\ttest: 0.4891681\tbest: 0.4889994 (259)\ttotal: 2m 31s\tremaining: 9.41s\n",
      "289:\tlearn: 0.3908024\ttest: 0.4891231\tbest: 0.4889994 (259)\ttotal: 2m 31s\tremaining: 8.88s\n",
      "290:\tlearn: 0.3907016\ttest: 0.4891094\tbest: 0.4889994 (259)\ttotal: 2m 32s\tremaining: 8.36s\n",
      "291:\tlearn: 0.3904562\ttest: 0.4890746\tbest: 0.4889994 (259)\ttotal: 2m 32s\tremaining: 7.84s\n",
      "292:\tlearn: 0.3900116\ttest: 0.4890295\tbest: 0.4889994 (259)\ttotal: 2m 33s\tremaining: 7.32s\n",
      "293:\tlearn: 0.3894563\ttest: 0.4890443\tbest: 0.4889994 (259)\ttotal: 2m 33s\tremaining: 6.8s\n",
      "294:\tlearn: 0.3892171\ttest: 0.4890590\tbest: 0.4889994 (259)\ttotal: 2m 34s\tremaining: 6.27s\n",
      "295:\tlearn: 0.3890434\ttest: 0.4889830\tbest: 0.4889830 (295)\ttotal: 2m 34s\tremaining: 5.75s\n",
      "296:\tlearn: 0.3885876\ttest: 0.4890221\tbest: 0.4889830 (295)\ttotal: 2m 35s\tremaining: 5.23s\n",
      "297:\tlearn: 0.3882609\ttest: 0.4890283\tbest: 0.4889830 (295)\ttotal: 2m 35s\tremaining: 4.71s\n",
      "298:\tlearn: 0.3878250\ttest: 0.4890084\tbest: 0.4889830 (295)\ttotal: 2m 36s\tremaining: 4.18s\n",
      "299:\tlearn: 0.3874137\ttest: 0.4889816\tbest: 0.4889816 (299)\ttotal: 2m 36s\tremaining: 3.66s\n",
      "300:\tlearn: 0.3870070\ttest: 0.4889437\tbest: 0.4889437 (300)\ttotal: 2m 37s\tremaining: 3.14s\n",
      "301:\tlearn: 0.3866655\ttest: 0.4889363\tbest: 0.4889363 (301)\ttotal: 2m 37s\tremaining: 2.61s\n",
      "302:\tlearn: 0.3864334\ttest: 0.4889885\tbest: 0.4889363 (301)\ttotal: 2m 38s\tremaining: 2.09s\n",
      "303:\tlearn: 0.3860695\ttest: 0.4889115\tbest: 0.4889115 (303)\ttotal: 2m 39s\tremaining: 1.57s\n",
      "304:\tlearn: 0.3859615\ttest: 0.4889175\tbest: 0.4889115 (303)\ttotal: 2m 39s\tremaining: 1.05s\n",
      "305:\tlearn: 0.3856939\ttest: 0.4889141\tbest: 0.4889115 (303)\ttotal: 2m 40s\tremaining: 524ms\n",
      "306:\tlearn: 0.3854582\ttest: 0.4889065\tbest: 0.4889065 (306)\ttotal: 2m 40s\tremaining: 0us\n",
      "\n",
      "bestTest = 0.4889064683\n",
      "bestIteration = 306\n",
      "\n"
     ]
    },
    {
     "data": {
      "text/plain": [
       "0.4889064729535519"
      ]
     },
     "execution_count": 74,
     "metadata": {},
     "output_type": "execute_result"
    }
   ],
   "source": [
    "cb = CatBoostRegressor()\n",
    "\n",
    "categorical_feature_indices = [0,1,2,5,6,7,8,9]\n",
    "\n",
    "param_cb = {  \"iterations\":[307], \"learning_rate\" : [0.2],\n",
    "         \"leaf_reg\": [1],\"depth\": [12]}\n",
    "                  \n",
    "              \n",
    "              \n",
    "             \n",
    "grid_search = GridSearchCV(cb, n_jobs=-1, param_grid=param_cb, cv = 5, scoring=\"r2\", verbose=5)\n",
    "grid_search.fit(X_train, y_train,cat_features=categorical_feature_indices,  eval_set = (X_test,y_test))\n",
    "cb_pred=grid_search.best_estimator_.predict(X_test)\n",
    "grid_search.best_estimator_\n",
    "rmse_test = MSE(y_test,cb_pred)**(0.5)\n",
    "rmse_test"
   ]
  },
  {
   "cell_type": "code",
   "execution_count": 75,
   "metadata": {},
   "outputs": [],
   "source": [
    "from scipy.special import inv_boxcox\n",
    "pred_prices=inv_boxcox(cb_pred,loga)"
   ]
  },
  {
   "cell_type": "code",
   "execution_count": 76,
   "metadata": {},
   "outputs": [
    {
     "data": {
      "text/plain": [
       "0.9098478830573627"
      ]
     },
     "execution_count": 76,
     "metadata": {},
     "output_type": "execute_result"
    }
   ],
   "source": [
    "grid_search.score(X_test,y_test)"
   ]
  },
  {
   "cell_type": "code",
   "execution_count": 77,
   "metadata": {},
   "outputs": [
    {
     "data": {
      "text/plain": [
       "1.6216896586154583"
      ]
     },
     "execution_count": 77,
     "metadata": {},
     "output_type": "execute_result"
    }
   ],
   "source": [
    "inv_boxcox(rmse_test,loga)"
   ]
  },
  {
   "cell_type": "code",
   "execution_count": 79,
   "metadata": {},
   "outputs": [
    {
     "data": {
      "text/plain": [
       "214.33852440930954"
      ]
     },
     "execution_count": 79,
     "metadata": {},
     "output_type": "execute_result"
    }
   ],
   "source": [
    "pred_prices.min()"
   ]
  },
  {
   "cell_type": "code",
   "execution_count": 80,
   "metadata": {},
   "outputs": [
    {
     "data": {
      "text/plain": [
       "count    2.311570e+05\n",
       "mean     6.894628e+03\n",
       "std      1.055829e+04\n",
       "min      2.000000e+02\n",
       "25%      1.700000e+03\n",
       "50%      4.000000e+03\n",
       "75%      8.900000e+03\n",
       "max      1.250000e+06\n",
       "Name: price, dtype: float64"
      ]
     },
     "execution_count": 80,
     "metadata": {},
     "output_type": "execute_result"
    }
   ],
   "source": [
    "df=pd.read_csv(\"clean_data.csv\")\n",
    "#df=df[df.yearOfRegistration>1990]\n",
    "#df=df[df.price<150000]\n",
    "df.price.describe()"
   ]
  },
  {
   "cell_type": "code",
   "execution_count": 81,
   "metadata": {},
   "outputs": [],
   "source": [
    "df=df.drop('Unnamed: 0',axis=1)\n",
    "df=df.drop('index',axis=1)\n",
    "fuel_dummies=pd.get_dummies(df.fuelType, prefix='fuel').iloc[:,1:]\n",
    "#df=pd.concat([df,fuel_dummies], axis=1)\n",
    "brand_dummies=pd.get_dummies(df.brand, prefix='brand').iloc[:,1:]\n",
    "\n",
    "vehicle_dummies=pd.get_dummies(df.vehicleType, prefix='vehicle_type').iloc[:,1:]\n",
    "#df=pd.concat([df,vehicle_dummies], axis=1)\n",
    "df=pd.concat([df,fuel_dummies,vehicle_dummies,brand_dummies], axis=1)\n",
    "dfcolumns=['yearOfRegistration','powerPS','kilometer',\n",
    "         'age','salvaged','gearbox',\n",
    "         'fuel_1', 'fuel_2', 'fuel_3', 'fuel_4', 'fuel_5', \n",
    "           'brand_AUDI',\n",
    "       'brand_BENTLEY', 'brand_BMW', 'brand_BUICK', 'brand_CADILLAC',\n",
    "       'brand_CHEVROLET', 'brand_CHRYSLER', 'brand_CITROEN', 'brand_DACIA',\n",
    "       'brand_DAEWOO', 'brand_DAIHATSU', 'brand_DODGE', 'brand_FERRARI',\n",
    "       'brand_FIAT', 'brand_FORD', 'brand_GMC', 'brand_HONDA', 'brand_HUMMER',\n",
    "       'brand_HYUNDAI', 'brand_ISUZU', 'brand_IVECO', 'brand_JAGUAR',\n",
    "       'brand_JEEP', 'brand_KIA', 'brand_LADA', 'brand_LANCIA',\n",
    "       'brand_LAND_ROVER', 'brand_LEXUS', 'brand_LINCOLN', 'brand_LOTUS',\n",
    "       'brand_MASERATI', 'brand_MAZDA', 'brand_MERCEDES_BENZ', 'brand_MG',\n",
    "       'brand_MINI', 'brand_MITSUBISHI', 'brand_NISSAN', 'brand_OLDSMOBILE',\n",
    "       'brand_OPEL', 'brand_PEUGEOT', 'brand_PONTIAC', 'brand_PORSCHE',\n",
    "       'brand_RENAULT', 'brand_ROVER', 'brand_SAAB', 'brand_SEAT',\n",
    "       'brand_SKODA', 'brand_SMART', 'brand_SUBARU', 'brand_SUZUKI',\n",
    "       'brand_TOYOTA', 'brand_TRABANT', \n",
    "          'brand_TRIUMPH', \n",
    "           'brand_VOLKSWAGEN',\n",
    "       'brand_VOLVO',\n",
    "           'vehicle_type_bus', 'vehicle_type_cabrio',\n",
    "       'vehicle_type_coupe', 'vehicle_type_kleinwagen', 'vehicle_type_kombi',\n",
    "       'vehicle_type_limousine', 'vehicle_type_suv']"
   ]
  },
  {
   "cell_type": "code",
   "execution_count": 83,
   "metadata": {},
   "outputs": [],
   "source": [
    "\n",
    "#X3 = df[dfcolumns].values\n",
    "\n",
    "X=df[dfcolumns]\n",
    "\n",
    "y5=stats.boxcox(df.price)[0]\n",
    "loga=stats.boxcox(df.price)[1]\n",
    "#df3columns=df[['yearOfRegistration','powerPS','kilometer','age','salvaged','gearbox','fuelType']].columns\n",
    "#y3 = df.price.values\n",
    "#y=df.price\n",
    "Xtrain,xtest,ytrain,ytest=train_test_split(X,y,test_size=0.25,random_state=42)\n",
    "#?train_test_split"
   ]
  },
  {
   "cell_type": "code",
   "execution_count": 89,
   "metadata": {},
   "outputs": [
    {
     "name": "stdout",
     "output_type": "stream",
     "text": [
      "Fitting 3 folds for each of 1 candidates, totalling 3 fits\n"
     ]
    },
    {
     "name": "stderr",
     "output_type": "stream",
     "text": [
      "[Parallel(n_jobs=-1)]: Done   3 out of   3 | elapsed:  5.3min finished\n"
     ]
    },
    {
     "name": "stdout",
     "output_type": "stream",
     "text": [
      "Test RMSE of best model: 0.354\n",
      "Best score: 0.895\n"
     ]
    }
   ],
   "source": [
    "rf1=RandomForestRegressor(random_state=42,n_jobs=-1)\n",
    "\n",
    "params_rf = {'n_estimators':[500],\n",
    "                'max_features':[ 'auto'],\n",
    "               'min_samples_leaf':[2],\n",
    "                'max_depth':[25],\n",
    "                }\n",
    "\n",
    "\n",
    "# Instantiate grid_rf\n",
    "grid_rf = GridSearchCV(estimator=rf1,\n",
    "                       param_grid=params_rf,\n",
    "                       scoring='r2',\n",
    "                       cv=3,\n",
    "                       verbose=1,\n",
    "                       n_jobs=-1)\n",
    "\n",
    "\n",
    "grid_rf.fit(Xtrain, ytrain) \n",
    "\n",
    "# Extract the best estimator\n",
    "best_model = grid_rf.best_estimator_\n",
    "\n",
    "# Predict test set labels\n",
    "ypred = best_model.predict(xtest)\n",
    "\n",
    "# Compute rmse_test\n",
    "rmse_test = MSE(ytest,ypred)**(0.5)\n",
    "\n",
    "# Print rmse_test\n",
    "print('Test RMSE of best model: {:.3f}'.format(rmse_test)) \n",
    "print('Best score: {:.3f}'.format(grid_rf.best_score_)) "
   ]
  },
  {
   "cell_type": "code",
   "execution_count": 86,
   "metadata": {},
   "outputs": [],
   "source": [
    "pred_prices=inv_boxcox(ypred,loga)"
   ]
  },
  {
   "cell_type": "code",
   "execution_count": 90,
   "metadata": {},
   "outputs": [
    {
     "data": {
      "text/plain": [
       "0.8976335000699102"
      ]
     },
     "execution_count": 90,
     "metadata": {},
     "output_type": "execute_result"
    }
   ],
   "source": [
    "grid_rf.score(xtest,ytest)"
   ]
  },
  {
   "cell_type": "code",
   "execution_count": 88,
   "metadata": {},
   "outputs": [
    {
     "data": {
      "text/plain": [
       "1.435384759753052"
      ]
     },
     "execution_count": 88,
     "metadata": {},
     "output_type": "execute_result"
    }
   ],
   "source": [
    "inv_boxcox(rmse_test,loga)"
   ]
  },
  {
   "cell_type": "code",
   "execution_count": 92,
   "metadata": {},
   "outputs": [
    {
     "name": "stdout",
     "output_type": "stream",
     "text": [
      "Fitting 3 folds for each of 27 candidates, totalling 81 fits\n"
     ]
    },
    {
     "name": "stderr",
     "output_type": "stream",
     "text": [
      "[Parallel(n_jobs=-1)]: Done   2 tasks      | elapsed:   27.0s\n",
      "[Parallel(n_jobs=-1)]: Done  56 tasks      | elapsed:  9.7min\n",
      "[Parallel(n_jobs=-1)]: Done  81 out of  81 | elapsed: 13.8min finished\n"
     ]
    }
   ],
   "source": [
    "import lightgbm as lgb\n",
    "\n",
    "#lgbm=lgb.LGBMRegressor(boosting_type='gbdt', class_weight=None, colsample_bytree=1.0,\n",
    "#       importance_type='split',min_child_samples=20, min_child_weight=0.001,\n",
    "#                       min_split_gain=0.0,n_jobs=-1, objective=None,\n",
    "#       random_state=None, reg_alpha=0.0, reg_lambda=0.0, silent=True,\n",
    "#       subsample=1.0, subsample_for_bin=200000, subsample_freq=0)\n",
    "#\n",
    "\n",
    "lgbr=lgb.LGBMRegressor()\n",
    "\n",
    "\n",
    "\n",
    "param_dist = {  \"max_depth\":[25,50, 75], \"learning_rate\" : [0.01,0.05,0.1],\n",
    "         \"num_leaves\": [300,900,1200],\"n_estimators\": [200]}\n",
    "                  \n",
    "              \n",
    "              \n",
    "             \n",
    "grid_search = GridSearchCV(lgbr, n_jobs=-1, param_grid=param_dist, cv = 3, scoring=\"r2\", verbose=5)\n",
    "grid_search.fit(Xtrain,ytrain)\n",
    "grid_search.best_estimator_\n",
    "\n",
    "d_train = lgb.Dataset(Xtrain, label=ytrain)\n",
    "params = {\"max_depth\": 50, \"learning_rate\" : 0.1, \"num_leaves\": 900,  \"n_estimators\": 300}\n",
    "\n"
   ]
  },
  {
   "cell_type": "code",
   "execution_count": 96,
   "metadata": {},
   "outputs": [
    {
     "name": "stdout",
     "output_type": "stream",
     "text": [
      "Test RMSE of best model: 1.421\n",
      "Best score: 0.901\n"
     ]
    }
   ],
   "source": [
    "# Compute rmse_test\n",
    "rmse_test = MSE(ytest,ypred)**(0.5)\n",
    "\n",
    "# Print rmse_test\n",
    "print('Test RMSE of best model: {:.3f}'.format(inv_boxcox(rmse_test,loga))) \n",
    "print('Best score: {:.3f}'.format(grid_search.best_score_)) "
   ]
  }
 ],
 "metadata": {
  "kernelspec": {
   "display_name": "Python 3",
   "language": "python",
   "name": "python3"
  },
  "language_info": {
   "codemirror_mode": {
    "name": "ipython",
    "version": 3
   },
   "file_extension": ".py",
   "mimetype": "text/x-python",
   "name": "python",
   "nbconvert_exporter": "python",
   "pygments_lexer": "ipython3",
   "version": "3.7.0"
  }
 },
 "nbformat": 4,
 "nbformat_minor": 2
}
